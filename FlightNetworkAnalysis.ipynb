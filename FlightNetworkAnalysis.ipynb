{
  "cells": [
    {
      "cell_type": "markdown",
      "metadata": {
        "id": "view-in-github",
        "colab_type": "text"
      },
      "source": [
        "<a href=\"https://colab.research.google.com/github/mehark56/flightnetworkanalysis/blob/main/FlightNetworkAnalysis.ipynb\" target=\"_parent\"><img src=\"https://colab.research.google.com/assets/colab-badge.svg\" alt=\"Open In Colab\"/></a>"
      ]
    },
    {
      "cell_type": "markdown",
      "metadata": {
        "id": "bUuWmJegp-W3"
      },
      "source": [
        "Importing Libraries"
      ]
    },
    {
      "cell_type": "code",
      "execution_count": 83,
      "metadata": {
        "id": "UIyJzllip-W4"
      },
      "outputs": [],
      "source": [
        "import numpy as np\n",
        "import matplotlib.pyplot as plt\n",
        "import pandas as pd"
      ]
    },
    {
      "cell_type": "code",
      "execution_count": 84,
      "metadata": {
        "id": "RdRKouexp-W5"
      },
      "outputs": [],
      "source": [
        "import networkx as nx\n",
        "G = nx.MultiDiGraph()"
      ]
    },
    {
      "cell_type": "markdown",
      "metadata": {
        "id": "YnbvMnFup-W5"
      },
      "source": [
        "Read CSV File"
      ]
    },
    {
      "cell_type": "code",
      "execution_count": 85,
      "metadata": {
        "id": "3oX3bsIap-W5"
      },
      "outputs": [],
      "source": [
        "my_dataset = pd.read_csv('airlinedelaycauses_DelayedFlights.csv',  low_memory=False)"
      ]
    },
    {
      "cell_type": "markdown",
      "metadata": {
        "id": "w70uokIqp-W6"
      },
      "source": [
        "Print Dataset"
      ]
    },
    {
      "cell_type": "code",
      "execution_count": 86,
      "metadata": {
        "colab": {
          "base_uri": "https://localhost:8080/",
          "height": 456
        },
        "id": "_JYrCeFCp-W6",
        "outputId": "3718b4b5-c7cb-4143-df27-1b768d6245df"
      },
      "outputs": [
        {
          "output_type": "execute_result",
          "data": {
            "text/plain": [
              "        Unnamed: 0  Year  Month  DayofMonth  DayOfWeek  DepTime  CRSDepTime  \\\n",
              "0                0  2008      1           3          4   2003.0        1955   \n",
              "1                1  2008      1           3          4    754.0         735   \n",
              "2                2  2008      1           3          4    628.0         620   \n",
              "3                4  2008      1           3          4   1829.0        1755   \n",
              "4                5  2008      1           3          4   1940.0        1915   \n",
              "...            ...   ...    ...         ...        ...      ...         ...   \n",
              "764358     2505442  2008      5          23          5   1422.0        1400   \n",
              "764359     2505444  2008      5          26          1   1931.0        1720   \n",
              "764360     2505445  2008      5          15          4   1116.0        1110   \n",
              "764361     2505456  2008      5          28          3   2129.0        2100   \n",
              "764362     2505458  2008      5          15          4    829.0         750   \n",
              "\n",
              "        ArrTime  CRSArrTime UniqueCarrier  ...  TaxiIn TaxiOut  Cancelled  \\\n",
              "0        2211.0        2225            WN  ...     4.0     8.0        0.0   \n",
              "1        1002.0        1000            WN  ...     5.0    10.0        0.0   \n",
              "2         804.0         750            WN  ...     3.0    17.0        0.0   \n",
              "3        1959.0        1925            WN  ...     3.0    10.0        0.0   \n",
              "4        2121.0        2110            WN  ...     4.0    10.0        0.0   \n",
              "...         ...         ...           ...  ...     ...     ...        ...   \n",
              "764358   1748.0        1732            XE  ...     4.0    14.0        0.0   \n",
              "764359   2116.0        1942            XE  ...     5.0    13.0        0.0   \n",
              "764360   1254.0        1237            XE  ...     5.0    31.0        0.0   \n",
              "764361   2310.0        2232            XE  ...     6.0    24.0        0.0   \n",
              "764362   1158.0        1128            XE  ...     3.0    13.0        NaN   \n",
              "\n",
              "        CancellationCode  Diverted  CarrierDelay  WeatherDelay NASDelay  \\\n",
              "0                      N       0.0           NaN           NaN      NaN   \n",
              "1                      N       0.0           NaN           NaN      NaN   \n",
              "2                      N       0.0           NaN           NaN      NaN   \n",
              "3                      N       0.0           2.0           0.0      0.0   \n",
              "4                      N       0.0           NaN           NaN      NaN   \n",
              "...                  ...       ...           ...           ...      ...   \n",
              "764358                 N       0.0           0.0           0.0      0.0   \n",
              "764359                 N       0.0           0.0           0.0      5.0   \n",
              "764360                 N       0.0           6.0           0.0     11.0   \n",
              "764361                 N       0.0           0.0           0.0      9.0   \n",
              "764362               NaN       NaN           NaN           NaN      NaN   \n",
              "\n",
              "       SecurityDelay  LateAircraftDelay  \n",
              "0                NaN                NaN  \n",
              "1                NaN                NaN  \n",
              "2                NaN                NaN  \n",
              "3                0.0               32.0  \n",
              "4                NaN                NaN  \n",
              "...              ...                ...  \n",
              "764358           0.0               16.0  \n",
              "764359           0.0               89.0  \n",
              "764360           0.0                0.0  \n",
              "764361           0.0               29.0  \n",
              "764362           NaN                NaN  \n",
              "\n",
              "[764363 rows x 30 columns]"
            ],
            "text/html": [
              "\n",
              "  <div id=\"df-50125683-2a40-4148-91c4-5c5b927306c2\" class=\"colab-df-container\">\n",
              "    <div>\n",
              "<style scoped>\n",
              "    .dataframe tbody tr th:only-of-type {\n",
              "        vertical-align: middle;\n",
              "    }\n",
              "\n",
              "    .dataframe tbody tr th {\n",
              "        vertical-align: top;\n",
              "    }\n",
              "\n",
              "    .dataframe thead th {\n",
              "        text-align: right;\n",
              "    }\n",
              "</style>\n",
              "<table border=\"1\" class=\"dataframe\">\n",
              "  <thead>\n",
              "    <tr style=\"text-align: right;\">\n",
              "      <th></th>\n",
              "      <th>Unnamed: 0</th>\n",
              "      <th>Year</th>\n",
              "      <th>Month</th>\n",
              "      <th>DayofMonth</th>\n",
              "      <th>DayOfWeek</th>\n",
              "      <th>DepTime</th>\n",
              "      <th>CRSDepTime</th>\n",
              "      <th>ArrTime</th>\n",
              "      <th>CRSArrTime</th>\n",
              "      <th>UniqueCarrier</th>\n",
              "      <th>...</th>\n",
              "      <th>TaxiIn</th>\n",
              "      <th>TaxiOut</th>\n",
              "      <th>Cancelled</th>\n",
              "      <th>CancellationCode</th>\n",
              "      <th>Diverted</th>\n",
              "      <th>CarrierDelay</th>\n",
              "      <th>WeatherDelay</th>\n",
              "      <th>NASDelay</th>\n",
              "      <th>SecurityDelay</th>\n",
              "      <th>LateAircraftDelay</th>\n",
              "    </tr>\n",
              "  </thead>\n",
              "  <tbody>\n",
              "    <tr>\n",
              "      <th>0</th>\n",
              "      <td>0</td>\n",
              "      <td>2008</td>\n",
              "      <td>1</td>\n",
              "      <td>3</td>\n",
              "      <td>4</td>\n",
              "      <td>2003.0</td>\n",
              "      <td>1955</td>\n",
              "      <td>2211.0</td>\n",
              "      <td>2225</td>\n",
              "      <td>WN</td>\n",
              "      <td>...</td>\n",
              "      <td>4.0</td>\n",
              "      <td>8.0</td>\n",
              "      <td>0.0</td>\n",
              "      <td>N</td>\n",
              "      <td>0.0</td>\n",
              "      <td>NaN</td>\n",
              "      <td>NaN</td>\n",
              "      <td>NaN</td>\n",
              "      <td>NaN</td>\n",
              "      <td>NaN</td>\n",
              "    </tr>\n",
              "    <tr>\n",
              "      <th>1</th>\n",
              "      <td>1</td>\n",
              "      <td>2008</td>\n",
              "      <td>1</td>\n",
              "      <td>3</td>\n",
              "      <td>4</td>\n",
              "      <td>754.0</td>\n",
              "      <td>735</td>\n",
              "      <td>1002.0</td>\n",
              "      <td>1000</td>\n",
              "      <td>WN</td>\n",
              "      <td>...</td>\n",
              "      <td>5.0</td>\n",
              "      <td>10.0</td>\n",
              "      <td>0.0</td>\n",
              "      <td>N</td>\n",
              "      <td>0.0</td>\n",
              "      <td>NaN</td>\n",
              "      <td>NaN</td>\n",
              "      <td>NaN</td>\n",
              "      <td>NaN</td>\n",
              "      <td>NaN</td>\n",
              "    </tr>\n",
              "    <tr>\n",
              "      <th>2</th>\n",
              "      <td>2</td>\n",
              "      <td>2008</td>\n",
              "      <td>1</td>\n",
              "      <td>3</td>\n",
              "      <td>4</td>\n",
              "      <td>628.0</td>\n",
              "      <td>620</td>\n",
              "      <td>804.0</td>\n",
              "      <td>750</td>\n",
              "      <td>WN</td>\n",
              "      <td>...</td>\n",
              "      <td>3.0</td>\n",
              "      <td>17.0</td>\n",
              "      <td>0.0</td>\n",
              "      <td>N</td>\n",
              "      <td>0.0</td>\n",
              "      <td>NaN</td>\n",
              "      <td>NaN</td>\n",
              "      <td>NaN</td>\n",
              "      <td>NaN</td>\n",
              "      <td>NaN</td>\n",
              "    </tr>\n",
              "    <tr>\n",
              "      <th>3</th>\n",
              "      <td>4</td>\n",
              "      <td>2008</td>\n",
              "      <td>1</td>\n",
              "      <td>3</td>\n",
              "      <td>4</td>\n",
              "      <td>1829.0</td>\n",
              "      <td>1755</td>\n",
              "      <td>1959.0</td>\n",
              "      <td>1925</td>\n",
              "      <td>WN</td>\n",
              "      <td>...</td>\n",
              "      <td>3.0</td>\n",
              "      <td>10.0</td>\n",
              "      <td>0.0</td>\n",
              "      <td>N</td>\n",
              "      <td>0.0</td>\n",
              "      <td>2.0</td>\n",
              "      <td>0.0</td>\n",
              "      <td>0.0</td>\n",
              "      <td>0.0</td>\n",
              "      <td>32.0</td>\n",
              "    </tr>\n",
              "    <tr>\n",
              "      <th>4</th>\n",
              "      <td>5</td>\n",
              "      <td>2008</td>\n",
              "      <td>1</td>\n",
              "      <td>3</td>\n",
              "      <td>4</td>\n",
              "      <td>1940.0</td>\n",
              "      <td>1915</td>\n",
              "      <td>2121.0</td>\n",
              "      <td>2110</td>\n",
              "      <td>WN</td>\n",
              "      <td>...</td>\n",
              "      <td>4.0</td>\n",
              "      <td>10.0</td>\n",
              "      <td>0.0</td>\n",
              "      <td>N</td>\n",
              "      <td>0.0</td>\n",
              "      <td>NaN</td>\n",
              "      <td>NaN</td>\n",
              "      <td>NaN</td>\n",
              "      <td>NaN</td>\n",
              "      <td>NaN</td>\n",
              "    </tr>\n",
              "    <tr>\n",
              "      <th>...</th>\n",
              "      <td>...</td>\n",
              "      <td>...</td>\n",
              "      <td>...</td>\n",
              "      <td>...</td>\n",
              "      <td>...</td>\n",
              "      <td>...</td>\n",
              "      <td>...</td>\n",
              "      <td>...</td>\n",
              "      <td>...</td>\n",
              "      <td>...</td>\n",
              "      <td>...</td>\n",
              "      <td>...</td>\n",
              "      <td>...</td>\n",
              "      <td>...</td>\n",
              "      <td>...</td>\n",
              "      <td>...</td>\n",
              "      <td>...</td>\n",
              "      <td>...</td>\n",
              "      <td>...</td>\n",
              "      <td>...</td>\n",
              "      <td>...</td>\n",
              "    </tr>\n",
              "    <tr>\n",
              "      <th>764358</th>\n",
              "      <td>2505442</td>\n",
              "      <td>2008</td>\n",
              "      <td>5</td>\n",
              "      <td>23</td>\n",
              "      <td>5</td>\n",
              "      <td>1422.0</td>\n",
              "      <td>1400</td>\n",
              "      <td>1748.0</td>\n",
              "      <td>1732</td>\n",
              "      <td>XE</td>\n",
              "      <td>...</td>\n",
              "      <td>4.0</td>\n",
              "      <td>14.0</td>\n",
              "      <td>0.0</td>\n",
              "      <td>N</td>\n",
              "      <td>0.0</td>\n",
              "      <td>0.0</td>\n",
              "      <td>0.0</td>\n",
              "      <td>0.0</td>\n",
              "      <td>0.0</td>\n",
              "      <td>16.0</td>\n",
              "    </tr>\n",
              "    <tr>\n",
              "      <th>764359</th>\n",
              "      <td>2505444</td>\n",
              "      <td>2008</td>\n",
              "      <td>5</td>\n",
              "      <td>26</td>\n",
              "      <td>1</td>\n",
              "      <td>1931.0</td>\n",
              "      <td>1720</td>\n",
              "      <td>2116.0</td>\n",
              "      <td>1942</td>\n",
              "      <td>XE</td>\n",
              "      <td>...</td>\n",
              "      <td>5.0</td>\n",
              "      <td>13.0</td>\n",
              "      <td>0.0</td>\n",
              "      <td>N</td>\n",
              "      <td>0.0</td>\n",
              "      <td>0.0</td>\n",
              "      <td>0.0</td>\n",
              "      <td>5.0</td>\n",
              "      <td>0.0</td>\n",
              "      <td>89.0</td>\n",
              "    </tr>\n",
              "    <tr>\n",
              "      <th>764360</th>\n",
              "      <td>2505445</td>\n",
              "      <td>2008</td>\n",
              "      <td>5</td>\n",
              "      <td>15</td>\n",
              "      <td>4</td>\n",
              "      <td>1116.0</td>\n",
              "      <td>1110</td>\n",
              "      <td>1254.0</td>\n",
              "      <td>1237</td>\n",
              "      <td>XE</td>\n",
              "      <td>...</td>\n",
              "      <td>5.0</td>\n",
              "      <td>31.0</td>\n",
              "      <td>0.0</td>\n",
              "      <td>N</td>\n",
              "      <td>0.0</td>\n",
              "      <td>6.0</td>\n",
              "      <td>0.0</td>\n",
              "      <td>11.0</td>\n",
              "      <td>0.0</td>\n",
              "      <td>0.0</td>\n",
              "    </tr>\n",
              "    <tr>\n",
              "      <th>764361</th>\n",
              "      <td>2505456</td>\n",
              "      <td>2008</td>\n",
              "      <td>5</td>\n",
              "      <td>28</td>\n",
              "      <td>3</td>\n",
              "      <td>2129.0</td>\n",
              "      <td>2100</td>\n",
              "      <td>2310.0</td>\n",
              "      <td>2232</td>\n",
              "      <td>XE</td>\n",
              "      <td>...</td>\n",
              "      <td>6.0</td>\n",
              "      <td>24.0</td>\n",
              "      <td>0.0</td>\n",
              "      <td>N</td>\n",
              "      <td>0.0</td>\n",
              "      <td>0.0</td>\n",
              "      <td>0.0</td>\n",
              "      <td>9.0</td>\n",
              "      <td>0.0</td>\n",
              "      <td>29.0</td>\n",
              "    </tr>\n",
              "    <tr>\n",
              "      <th>764362</th>\n",
              "      <td>2505458</td>\n",
              "      <td>2008</td>\n",
              "      <td>5</td>\n",
              "      <td>15</td>\n",
              "      <td>4</td>\n",
              "      <td>829.0</td>\n",
              "      <td>750</td>\n",
              "      <td>1158.0</td>\n",
              "      <td>1128</td>\n",
              "      <td>XE</td>\n",
              "      <td>...</td>\n",
              "      <td>3.0</td>\n",
              "      <td>13.0</td>\n",
              "      <td>NaN</td>\n",
              "      <td>NaN</td>\n",
              "      <td>NaN</td>\n",
              "      <td>NaN</td>\n",
              "      <td>NaN</td>\n",
              "      <td>NaN</td>\n",
              "      <td>NaN</td>\n",
              "      <td>NaN</td>\n",
              "    </tr>\n",
              "  </tbody>\n",
              "</table>\n",
              "<p>764363 rows × 30 columns</p>\n",
              "</div>\n",
              "    <div class=\"colab-df-buttons\">\n",
              "\n",
              "  <div class=\"colab-df-container\">\n",
              "    <button class=\"colab-df-convert\" onclick=\"convertToInteractive('df-50125683-2a40-4148-91c4-5c5b927306c2')\"\n",
              "            title=\"Convert this dataframe to an interactive table.\"\n",
              "            style=\"display:none;\">\n",
              "\n",
              "  <svg xmlns=\"http://www.w3.org/2000/svg\" height=\"24px\" viewBox=\"0 -960 960 960\">\n",
              "    <path d=\"M120-120v-720h720v720H120Zm60-500h600v-160H180v160Zm220 220h160v-160H400v160Zm0 220h160v-160H400v160ZM180-400h160v-160H180v160Zm440 0h160v-160H620v160ZM180-180h160v-160H180v160Zm440 0h160v-160H620v160Z\"/>\n",
              "  </svg>\n",
              "    </button>\n",
              "\n",
              "  <style>\n",
              "    .colab-df-container {\n",
              "      display:flex;\n",
              "      gap: 12px;\n",
              "    }\n",
              "\n",
              "    .colab-df-convert {\n",
              "      background-color: #E8F0FE;\n",
              "      border: none;\n",
              "      border-radius: 50%;\n",
              "      cursor: pointer;\n",
              "      display: none;\n",
              "      fill: #1967D2;\n",
              "      height: 32px;\n",
              "      padding: 0 0 0 0;\n",
              "      width: 32px;\n",
              "    }\n",
              "\n",
              "    .colab-df-convert:hover {\n",
              "      background-color: #E2EBFA;\n",
              "      box-shadow: 0px 1px 2px rgba(60, 64, 67, 0.3), 0px 1px 3px 1px rgba(60, 64, 67, 0.15);\n",
              "      fill: #174EA6;\n",
              "    }\n",
              "\n",
              "    .colab-df-buttons div {\n",
              "      margin-bottom: 4px;\n",
              "    }\n",
              "\n",
              "    [theme=dark] .colab-df-convert {\n",
              "      background-color: #3B4455;\n",
              "      fill: #D2E3FC;\n",
              "    }\n",
              "\n",
              "    [theme=dark] .colab-df-convert:hover {\n",
              "      background-color: #434B5C;\n",
              "      box-shadow: 0px 1px 3px 1px rgba(0, 0, 0, 0.15);\n",
              "      filter: drop-shadow(0px 1px 2px rgba(0, 0, 0, 0.3));\n",
              "      fill: #FFFFFF;\n",
              "    }\n",
              "  </style>\n",
              "\n",
              "    <script>\n",
              "      const buttonEl =\n",
              "        document.querySelector('#df-50125683-2a40-4148-91c4-5c5b927306c2 button.colab-df-convert');\n",
              "      buttonEl.style.display =\n",
              "        google.colab.kernel.accessAllowed ? 'block' : 'none';\n",
              "\n",
              "      async function convertToInteractive(key) {\n",
              "        const element = document.querySelector('#df-50125683-2a40-4148-91c4-5c5b927306c2');\n",
              "        const dataTable =\n",
              "          await google.colab.kernel.invokeFunction('convertToInteractive',\n",
              "                                                    [key], {});\n",
              "        if (!dataTable) return;\n",
              "\n",
              "        const docLinkHtml = 'Like what you see? Visit the ' +\n",
              "          '<a target=\"_blank\" href=https://colab.research.google.com/notebooks/data_table.ipynb>data table notebook</a>'\n",
              "          + ' to learn more about interactive tables.';\n",
              "        element.innerHTML = '';\n",
              "        dataTable['output_type'] = 'display_data';\n",
              "        await google.colab.output.renderOutput(dataTable, element);\n",
              "        const docLink = document.createElement('div');\n",
              "        docLink.innerHTML = docLinkHtml;\n",
              "        element.appendChild(docLink);\n",
              "      }\n",
              "    </script>\n",
              "  </div>\n",
              "\n",
              "\n",
              "<div id=\"df-96789527-86c0-4ec5-ba0b-285f7cb42588\">\n",
              "  <button class=\"colab-df-quickchart\" onclick=\"quickchart('df-96789527-86c0-4ec5-ba0b-285f7cb42588')\"\n",
              "            title=\"Suggest charts\"\n",
              "            style=\"display:none;\">\n",
              "\n",
              "<svg xmlns=\"http://www.w3.org/2000/svg\" height=\"24px\"viewBox=\"0 0 24 24\"\n",
              "     width=\"24px\">\n",
              "    <g>\n",
              "        <path d=\"M19 3H5c-1.1 0-2 .9-2 2v14c0 1.1.9 2 2 2h14c1.1 0 2-.9 2-2V5c0-1.1-.9-2-2-2zM9 17H7v-7h2v7zm4 0h-2V7h2v10zm4 0h-2v-4h2v4z\"/>\n",
              "    </g>\n",
              "</svg>\n",
              "  </button>\n",
              "\n",
              "<style>\n",
              "  .colab-df-quickchart {\n",
              "      --bg-color: #E8F0FE;\n",
              "      --fill-color: #1967D2;\n",
              "      --hover-bg-color: #E2EBFA;\n",
              "      --hover-fill-color: #174EA6;\n",
              "      --disabled-fill-color: #AAA;\n",
              "      --disabled-bg-color: #DDD;\n",
              "  }\n",
              "\n",
              "  [theme=dark] .colab-df-quickchart {\n",
              "      --bg-color: #3B4455;\n",
              "      --fill-color: #D2E3FC;\n",
              "      --hover-bg-color: #434B5C;\n",
              "      --hover-fill-color: #FFFFFF;\n",
              "      --disabled-bg-color: #3B4455;\n",
              "      --disabled-fill-color: #666;\n",
              "  }\n",
              "\n",
              "  .colab-df-quickchart {\n",
              "    background-color: var(--bg-color);\n",
              "    border: none;\n",
              "    border-radius: 50%;\n",
              "    cursor: pointer;\n",
              "    display: none;\n",
              "    fill: var(--fill-color);\n",
              "    height: 32px;\n",
              "    padding: 0;\n",
              "    width: 32px;\n",
              "  }\n",
              "\n",
              "  .colab-df-quickchart:hover {\n",
              "    background-color: var(--hover-bg-color);\n",
              "    box-shadow: 0 1px 2px rgba(60, 64, 67, 0.3), 0 1px 3px 1px rgba(60, 64, 67, 0.15);\n",
              "    fill: var(--button-hover-fill-color);\n",
              "  }\n",
              "\n",
              "  .colab-df-quickchart-complete:disabled,\n",
              "  .colab-df-quickchart-complete:disabled:hover {\n",
              "    background-color: var(--disabled-bg-color);\n",
              "    fill: var(--disabled-fill-color);\n",
              "    box-shadow: none;\n",
              "  }\n",
              "\n",
              "  .colab-df-spinner {\n",
              "    border: 2px solid var(--fill-color);\n",
              "    border-color: transparent;\n",
              "    border-bottom-color: var(--fill-color);\n",
              "    animation:\n",
              "      spin 1s steps(1) infinite;\n",
              "  }\n",
              "\n",
              "  @keyframes spin {\n",
              "    0% {\n",
              "      border-color: transparent;\n",
              "      border-bottom-color: var(--fill-color);\n",
              "      border-left-color: var(--fill-color);\n",
              "    }\n",
              "    20% {\n",
              "      border-color: transparent;\n",
              "      border-left-color: var(--fill-color);\n",
              "      border-top-color: var(--fill-color);\n",
              "    }\n",
              "    30% {\n",
              "      border-color: transparent;\n",
              "      border-left-color: var(--fill-color);\n",
              "      border-top-color: var(--fill-color);\n",
              "      border-right-color: var(--fill-color);\n",
              "    }\n",
              "    40% {\n",
              "      border-color: transparent;\n",
              "      border-right-color: var(--fill-color);\n",
              "      border-top-color: var(--fill-color);\n",
              "    }\n",
              "    60% {\n",
              "      border-color: transparent;\n",
              "      border-right-color: var(--fill-color);\n",
              "    }\n",
              "    80% {\n",
              "      border-color: transparent;\n",
              "      border-right-color: var(--fill-color);\n",
              "      border-bottom-color: var(--fill-color);\n",
              "    }\n",
              "    90% {\n",
              "      border-color: transparent;\n",
              "      border-bottom-color: var(--fill-color);\n",
              "    }\n",
              "  }\n",
              "</style>\n",
              "\n",
              "  <script>\n",
              "    async function quickchart(key) {\n",
              "      const quickchartButtonEl =\n",
              "        document.querySelector('#' + key + ' button');\n",
              "      quickchartButtonEl.disabled = true;  // To prevent multiple clicks.\n",
              "      quickchartButtonEl.classList.add('colab-df-spinner');\n",
              "      try {\n",
              "        const charts = await google.colab.kernel.invokeFunction(\n",
              "            'suggestCharts', [key], {});\n",
              "      } catch (error) {\n",
              "        console.error('Error during call to suggestCharts:', error);\n",
              "      }\n",
              "      quickchartButtonEl.classList.remove('colab-df-spinner');\n",
              "      quickchartButtonEl.classList.add('colab-df-quickchart-complete');\n",
              "    }\n",
              "    (() => {\n",
              "      let quickchartButtonEl =\n",
              "        document.querySelector('#df-96789527-86c0-4ec5-ba0b-285f7cb42588 button');\n",
              "      quickchartButtonEl.style.display =\n",
              "        google.colab.kernel.accessAllowed ? 'block' : 'none';\n",
              "    })();\n",
              "  </script>\n",
              "</div>\n",
              "\n",
              "  <div id=\"id_2db668b4-edb1-40dc-a4c9-701db71e0826\">\n",
              "    <style>\n",
              "      .colab-df-generate {\n",
              "        background-color: #E8F0FE;\n",
              "        border: none;\n",
              "        border-radius: 50%;\n",
              "        cursor: pointer;\n",
              "        display: none;\n",
              "        fill: #1967D2;\n",
              "        height: 32px;\n",
              "        padding: 0 0 0 0;\n",
              "        width: 32px;\n",
              "      }\n",
              "\n",
              "      .colab-df-generate:hover {\n",
              "        background-color: #E2EBFA;\n",
              "        box-shadow: 0px 1px 2px rgba(60, 64, 67, 0.3), 0px 1px 3px 1px rgba(60, 64, 67, 0.15);\n",
              "        fill: #174EA6;\n",
              "      }\n",
              "\n",
              "      [theme=dark] .colab-df-generate {\n",
              "        background-color: #3B4455;\n",
              "        fill: #D2E3FC;\n",
              "      }\n",
              "\n",
              "      [theme=dark] .colab-df-generate:hover {\n",
              "        background-color: #434B5C;\n",
              "        box-shadow: 0px 1px 3px 1px rgba(0, 0, 0, 0.15);\n",
              "        filter: drop-shadow(0px 1px 2px rgba(0, 0, 0, 0.3));\n",
              "        fill: #FFFFFF;\n",
              "      }\n",
              "    </style>\n",
              "    <button class=\"colab-df-generate\" onclick=\"generateWithVariable('my_dataset')\"\n",
              "            title=\"Generate code using this dataframe.\"\n",
              "            style=\"display:none;\">\n",
              "\n",
              "  <svg xmlns=\"http://www.w3.org/2000/svg\" height=\"24px\"viewBox=\"0 0 24 24\"\n",
              "       width=\"24px\">\n",
              "    <path d=\"M7,19H8.4L18.45,9,17,7.55,7,17.6ZM5,21V16.75L18.45,3.32a2,2,0,0,1,2.83,0l1.4,1.43a1.91,1.91,0,0,1,.58,1.4,1.91,1.91,0,0,1-.58,1.4L9.25,21ZM18.45,9,17,7.55Zm-12,3A5.31,5.31,0,0,0,4.9,8.1,5.31,5.31,0,0,0,1,6.5,5.31,5.31,0,0,0,4.9,4.9,5.31,5.31,0,0,0,6.5,1,5.31,5.31,0,0,0,8.1,4.9,5.31,5.31,0,0,0,12,6.5,5.46,5.46,0,0,0,6.5,12Z\"/>\n",
              "  </svg>\n",
              "    </button>\n",
              "    <script>\n",
              "      (() => {\n",
              "      const buttonEl =\n",
              "        document.querySelector('#id_2db668b4-edb1-40dc-a4c9-701db71e0826 button.colab-df-generate');\n",
              "      buttonEl.style.display =\n",
              "        google.colab.kernel.accessAllowed ? 'block' : 'none';\n",
              "\n",
              "      buttonEl.onclick = () => {\n",
              "        google.colab.notebook.generateWithVariable('my_dataset');\n",
              "      }\n",
              "      })();\n",
              "    </script>\n",
              "  </div>\n",
              "\n",
              "    </div>\n",
              "  </div>\n"
            ],
            "application/vnd.google.colaboratory.intrinsic+json": {
              "type": "dataframe",
              "variable_name": "my_dataset"
            }
          },
          "metadata": {},
          "execution_count": 86
        }
      ],
      "source": [
        "my_dataset"
      ]
    },
    {
      "cell_type": "markdown",
      "metadata": {
        "id": "bvI2kVYMp-W6"
      },
      "source": [
        "DATA PREPROCESSING"
      ]
    },
    {
      "cell_type": "markdown",
      "metadata": {
        "id": "GrKgmRQcp-W7"
      },
      "source": [
        "Column Removal"
      ]
    },
    {
      "cell_type": "code",
      "execution_count": 87,
      "metadata": {
        "id": "YJ1npNEPp-W7"
      },
      "outputs": [],
      "source": [
        "my_dataset = my_dataset.drop(['Year','Month','DayofMonth','CRSDepTime','CRSArrTime','CRSElapsedTime','ArrDelay','DepDelay','Cancelled','CancellationCode','Diverted','CarrierDelay','WeatherDelay','NASDelay','SecurityDelay','LateAircraftDelay','TaxiIn','TaxiOut','DayOfWeek'],axis=1)\n"
      ]
    },
    {
      "cell_type": "code",
      "execution_count": 88,
      "metadata": {
        "colab": {
          "base_uri": "https://localhost:8080/",
          "height": 419
        },
        "id": "-MMSM0QYp-W7",
        "outputId": "efea5d93-91fd-41fe-cc2c-ac6519a7755e"
      },
      "outputs": [
        {
          "output_type": "execute_result",
          "data": {
            "text/plain": [
              "        Unnamed: 0  DepTime  ArrTime UniqueCarrier  FlightNum TailNum  \\\n",
              "0                0   2003.0   2211.0            WN        335  N712SW   \n",
              "1                1    754.0   1002.0            WN       3231  N772SW   \n",
              "2                2    628.0    804.0            WN        448  N428WN   \n",
              "3                4   1829.0   1959.0            WN       3920  N464WN   \n",
              "4                5   1940.0   2121.0            WN        378  N726SW   \n",
              "...            ...      ...      ...           ...        ...     ...   \n",
              "764358     2505442   1422.0   1748.0            XE       3048  N16571   \n",
              "764359     2505444   1931.0   2116.0            XE       2737  N17984   \n",
              "764360     2505445   1116.0   1254.0            XE       2845  N15941   \n",
              "764361     2505456   2129.0   2310.0            XE       2048  N15932   \n",
              "764362     2505458    829.0   1158.0            XE       2240  N26141   \n",
              "\n",
              "        ActualElapsedTime  AirTime Origin Dest  Distance  \n",
              "0                   128.0    116.0    IAD  TPA       810  \n",
              "1                   128.0    113.0    IAD  TPA       810  \n",
              "2                    96.0     76.0    IND  BWI       515  \n",
              "3                    90.0     77.0    IND  BWI       515  \n",
              "4                   101.0     87.0    IND  JAX       688  \n",
              "...                   ...      ...    ...  ...       ...  \n",
              "764358              146.0    128.0    IAH  CLT       913  \n",
              "764359              105.0     87.0    GSP  EWR       594  \n",
              "764360               98.0     62.0    IAH  TUL       429  \n",
              "764361              101.0     71.0    IAH  MEM       469  \n",
              "764362              149.0    133.0    IAH  RDU      1043  \n",
              "\n",
              "[764363 rows x 11 columns]"
            ],
            "text/html": [
              "\n",
              "  <div id=\"df-df0fddd4-0aa6-41c8-8810-40d34fe0a743\" class=\"colab-df-container\">\n",
              "    <div>\n",
              "<style scoped>\n",
              "    .dataframe tbody tr th:only-of-type {\n",
              "        vertical-align: middle;\n",
              "    }\n",
              "\n",
              "    .dataframe tbody tr th {\n",
              "        vertical-align: top;\n",
              "    }\n",
              "\n",
              "    .dataframe thead th {\n",
              "        text-align: right;\n",
              "    }\n",
              "</style>\n",
              "<table border=\"1\" class=\"dataframe\">\n",
              "  <thead>\n",
              "    <tr style=\"text-align: right;\">\n",
              "      <th></th>\n",
              "      <th>Unnamed: 0</th>\n",
              "      <th>DepTime</th>\n",
              "      <th>ArrTime</th>\n",
              "      <th>UniqueCarrier</th>\n",
              "      <th>FlightNum</th>\n",
              "      <th>TailNum</th>\n",
              "      <th>ActualElapsedTime</th>\n",
              "      <th>AirTime</th>\n",
              "      <th>Origin</th>\n",
              "      <th>Dest</th>\n",
              "      <th>Distance</th>\n",
              "    </tr>\n",
              "  </thead>\n",
              "  <tbody>\n",
              "    <tr>\n",
              "      <th>0</th>\n",
              "      <td>0</td>\n",
              "      <td>2003.0</td>\n",
              "      <td>2211.0</td>\n",
              "      <td>WN</td>\n",
              "      <td>335</td>\n",
              "      <td>N712SW</td>\n",
              "      <td>128.0</td>\n",
              "      <td>116.0</td>\n",
              "      <td>IAD</td>\n",
              "      <td>TPA</td>\n",
              "      <td>810</td>\n",
              "    </tr>\n",
              "    <tr>\n",
              "      <th>1</th>\n",
              "      <td>1</td>\n",
              "      <td>754.0</td>\n",
              "      <td>1002.0</td>\n",
              "      <td>WN</td>\n",
              "      <td>3231</td>\n",
              "      <td>N772SW</td>\n",
              "      <td>128.0</td>\n",
              "      <td>113.0</td>\n",
              "      <td>IAD</td>\n",
              "      <td>TPA</td>\n",
              "      <td>810</td>\n",
              "    </tr>\n",
              "    <tr>\n",
              "      <th>2</th>\n",
              "      <td>2</td>\n",
              "      <td>628.0</td>\n",
              "      <td>804.0</td>\n",
              "      <td>WN</td>\n",
              "      <td>448</td>\n",
              "      <td>N428WN</td>\n",
              "      <td>96.0</td>\n",
              "      <td>76.0</td>\n",
              "      <td>IND</td>\n",
              "      <td>BWI</td>\n",
              "      <td>515</td>\n",
              "    </tr>\n",
              "    <tr>\n",
              "      <th>3</th>\n",
              "      <td>4</td>\n",
              "      <td>1829.0</td>\n",
              "      <td>1959.0</td>\n",
              "      <td>WN</td>\n",
              "      <td>3920</td>\n",
              "      <td>N464WN</td>\n",
              "      <td>90.0</td>\n",
              "      <td>77.0</td>\n",
              "      <td>IND</td>\n",
              "      <td>BWI</td>\n",
              "      <td>515</td>\n",
              "    </tr>\n",
              "    <tr>\n",
              "      <th>4</th>\n",
              "      <td>5</td>\n",
              "      <td>1940.0</td>\n",
              "      <td>2121.0</td>\n",
              "      <td>WN</td>\n",
              "      <td>378</td>\n",
              "      <td>N726SW</td>\n",
              "      <td>101.0</td>\n",
              "      <td>87.0</td>\n",
              "      <td>IND</td>\n",
              "      <td>JAX</td>\n",
              "      <td>688</td>\n",
              "    </tr>\n",
              "    <tr>\n",
              "      <th>...</th>\n",
              "      <td>...</td>\n",
              "      <td>...</td>\n",
              "      <td>...</td>\n",
              "      <td>...</td>\n",
              "      <td>...</td>\n",
              "      <td>...</td>\n",
              "      <td>...</td>\n",
              "      <td>...</td>\n",
              "      <td>...</td>\n",
              "      <td>...</td>\n",
              "      <td>...</td>\n",
              "    </tr>\n",
              "    <tr>\n",
              "      <th>764358</th>\n",
              "      <td>2505442</td>\n",
              "      <td>1422.0</td>\n",
              "      <td>1748.0</td>\n",
              "      <td>XE</td>\n",
              "      <td>3048</td>\n",
              "      <td>N16571</td>\n",
              "      <td>146.0</td>\n",
              "      <td>128.0</td>\n",
              "      <td>IAH</td>\n",
              "      <td>CLT</td>\n",
              "      <td>913</td>\n",
              "    </tr>\n",
              "    <tr>\n",
              "      <th>764359</th>\n",
              "      <td>2505444</td>\n",
              "      <td>1931.0</td>\n",
              "      <td>2116.0</td>\n",
              "      <td>XE</td>\n",
              "      <td>2737</td>\n",
              "      <td>N17984</td>\n",
              "      <td>105.0</td>\n",
              "      <td>87.0</td>\n",
              "      <td>GSP</td>\n",
              "      <td>EWR</td>\n",
              "      <td>594</td>\n",
              "    </tr>\n",
              "    <tr>\n",
              "      <th>764360</th>\n",
              "      <td>2505445</td>\n",
              "      <td>1116.0</td>\n",
              "      <td>1254.0</td>\n",
              "      <td>XE</td>\n",
              "      <td>2845</td>\n",
              "      <td>N15941</td>\n",
              "      <td>98.0</td>\n",
              "      <td>62.0</td>\n",
              "      <td>IAH</td>\n",
              "      <td>TUL</td>\n",
              "      <td>429</td>\n",
              "    </tr>\n",
              "    <tr>\n",
              "      <th>764361</th>\n",
              "      <td>2505456</td>\n",
              "      <td>2129.0</td>\n",
              "      <td>2310.0</td>\n",
              "      <td>XE</td>\n",
              "      <td>2048</td>\n",
              "      <td>N15932</td>\n",
              "      <td>101.0</td>\n",
              "      <td>71.0</td>\n",
              "      <td>IAH</td>\n",
              "      <td>MEM</td>\n",
              "      <td>469</td>\n",
              "    </tr>\n",
              "    <tr>\n",
              "      <th>764362</th>\n",
              "      <td>2505458</td>\n",
              "      <td>829.0</td>\n",
              "      <td>1158.0</td>\n",
              "      <td>XE</td>\n",
              "      <td>2240</td>\n",
              "      <td>N26141</td>\n",
              "      <td>149.0</td>\n",
              "      <td>133.0</td>\n",
              "      <td>IAH</td>\n",
              "      <td>RDU</td>\n",
              "      <td>1043</td>\n",
              "    </tr>\n",
              "  </tbody>\n",
              "</table>\n",
              "<p>764363 rows × 11 columns</p>\n",
              "</div>\n",
              "    <div class=\"colab-df-buttons\">\n",
              "\n",
              "  <div class=\"colab-df-container\">\n",
              "    <button class=\"colab-df-convert\" onclick=\"convertToInteractive('df-df0fddd4-0aa6-41c8-8810-40d34fe0a743')\"\n",
              "            title=\"Convert this dataframe to an interactive table.\"\n",
              "            style=\"display:none;\">\n",
              "\n",
              "  <svg xmlns=\"http://www.w3.org/2000/svg\" height=\"24px\" viewBox=\"0 -960 960 960\">\n",
              "    <path d=\"M120-120v-720h720v720H120Zm60-500h600v-160H180v160Zm220 220h160v-160H400v160Zm0 220h160v-160H400v160ZM180-400h160v-160H180v160Zm440 0h160v-160H620v160ZM180-180h160v-160H180v160Zm440 0h160v-160H620v160Z\"/>\n",
              "  </svg>\n",
              "    </button>\n",
              "\n",
              "  <style>\n",
              "    .colab-df-container {\n",
              "      display:flex;\n",
              "      gap: 12px;\n",
              "    }\n",
              "\n",
              "    .colab-df-convert {\n",
              "      background-color: #E8F0FE;\n",
              "      border: none;\n",
              "      border-radius: 50%;\n",
              "      cursor: pointer;\n",
              "      display: none;\n",
              "      fill: #1967D2;\n",
              "      height: 32px;\n",
              "      padding: 0 0 0 0;\n",
              "      width: 32px;\n",
              "    }\n",
              "\n",
              "    .colab-df-convert:hover {\n",
              "      background-color: #E2EBFA;\n",
              "      box-shadow: 0px 1px 2px rgba(60, 64, 67, 0.3), 0px 1px 3px 1px rgba(60, 64, 67, 0.15);\n",
              "      fill: #174EA6;\n",
              "    }\n",
              "\n",
              "    .colab-df-buttons div {\n",
              "      margin-bottom: 4px;\n",
              "    }\n",
              "\n",
              "    [theme=dark] .colab-df-convert {\n",
              "      background-color: #3B4455;\n",
              "      fill: #D2E3FC;\n",
              "    }\n",
              "\n",
              "    [theme=dark] .colab-df-convert:hover {\n",
              "      background-color: #434B5C;\n",
              "      box-shadow: 0px 1px 3px 1px rgba(0, 0, 0, 0.15);\n",
              "      filter: drop-shadow(0px 1px 2px rgba(0, 0, 0, 0.3));\n",
              "      fill: #FFFFFF;\n",
              "    }\n",
              "  </style>\n",
              "\n",
              "    <script>\n",
              "      const buttonEl =\n",
              "        document.querySelector('#df-df0fddd4-0aa6-41c8-8810-40d34fe0a743 button.colab-df-convert');\n",
              "      buttonEl.style.display =\n",
              "        google.colab.kernel.accessAllowed ? 'block' : 'none';\n",
              "\n",
              "      async function convertToInteractive(key) {\n",
              "        const element = document.querySelector('#df-df0fddd4-0aa6-41c8-8810-40d34fe0a743');\n",
              "        const dataTable =\n",
              "          await google.colab.kernel.invokeFunction('convertToInteractive',\n",
              "                                                    [key], {});\n",
              "        if (!dataTable) return;\n",
              "\n",
              "        const docLinkHtml = 'Like what you see? Visit the ' +\n",
              "          '<a target=\"_blank\" href=https://colab.research.google.com/notebooks/data_table.ipynb>data table notebook</a>'\n",
              "          + ' to learn more about interactive tables.';\n",
              "        element.innerHTML = '';\n",
              "        dataTable['output_type'] = 'display_data';\n",
              "        await google.colab.output.renderOutput(dataTable, element);\n",
              "        const docLink = document.createElement('div');\n",
              "        docLink.innerHTML = docLinkHtml;\n",
              "        element.appendChild(docLink);\n",
              "      }\n",
              "    </script>\n",
              "  </div>\n",
              "\n",
              "\n",
              "<div id=\"df-114f9f34-e2bf-48c1-86de-c8b263080ddc\">\n",
              "  <button class=\"colab-df-quickchart\" onclick=\"quickchart('df-114f9f34-e2bf-48c1-86de-c8b263080ddc')\"\n",
              "            title=\"Suggest charts\"\n",
              "            style=\"display:none;\">\n",
              "\n",
              "<svg xmlns=\"http://www.w3.org/2000/svg\" height=\"24px\"viewBox=\"0 0 24 24\"\n",
              "     width=\"24px\">\n",
              "    <g>\n",
              "        <path d=\"M19 3H5c-1.1 0-2 .9-2 2v14c0 1.1.9 2 2 2h14c1.1 0 2-.9 2-2V5c0-1.1-.9-2-2-2zM9 17H7v-7h2v7zm4 0h-2V7h2v10zm4 0h-2v-4h2v4z\"/>\n",
              "    </g>\n",
              "</svg>\n",
              "  </button>\n",
              "\n",
              "<style>\n",
              "  .colab-df-quickchart {\n",
              "      --bg-color: #E8F0FE;\n",
              "      --fill-color: #1967D2;\n",
              "      --hover-bg-color: #E2EBFA;\n",
              "      --hover-fill-color: #174EA6;\n",
              "      --disabled-fill-color: #AAA;\n",
              "      --disabled-bg-color: #DDD;\n",
              "  }\n",
              "\n",
              "  [theme=dark] .colab-df-quickchart {\n",
              "      --bg-color: #3B4455;\n",
              "      --fill-color: #D2E3FC;\n",
              "      --hover-bg-color: #434B5C;\n",
              "      --hover-fill-color: #FFFFFF;\n",
              "      --disabled-bg-color: #3B4455;\n",
              "      --disabled-fill-color: #666;\n",
              "  }\n",
              "\n",
              "  .colab-df-quickchart {\n",
              "    background-color: var(--bg-color);\n",
              "    border: none;\n",
              "    border-radius: 50%;\n",
              "    cursor: pointer;\n",
              "    display: none;\n",
              "    fill: var(--fill-color);\n",
              "    height: 32px;\n",
              "    padding: 0;\n",
              "    width: 32px;\n",
              "  }\n",
              "\n",
              "  .colab-df-quickchart:hover {\n",
              "    background-color: var(--hover-bg-color);\n",
              "    box-shadow: 0 1px 2px rgba(60, 64, 67, 0.3), 0 1px 3px 1px rgba(60, 64, 67, 0.15);\n",
              "    fill: var(--button-hover-fill-color);\n",
              "  }\n",
              "\n",
              "  .colab-df-quickchart-complete:disabled,\n",
              "  .colab-df-quickchart-complete:disabled:hover {\n",
              "    background-color: var(--disabled-bg-color);\n",
              "    fill: var(--disabled-fill-color);\n",
              "    box-shadow: none;\n",
              "  }\n",
              "\n",
              "  .colab-df-spinner {\n",
              "    border: 2px solid var(--fill-color);\n",
              "    border-color: transparent;\n",
              "    border-bottom-color: var(--fill-color);\n",
              "    animation:\n",
              "      spin 1s steps(1) infinite;\n",
              "  }\n",
              "\n",
              "  @keyframes spin {\n",
              "    0% {\n",
              "      border-color: transparent;\n",
              "      border-bottom-color: var(--fill-color);\n",
              "      border-left-color: var(--fill-color);\n",
              "    }\n",
              "    20% {\n",
              "      border-color: transparent;\n",
              "      border-left-color: var(--fill-color);\n",
              "      border-top-color: var(--fill-color);\n",
              "    }\n",
              "    30% {\n",
              "      border-color: transparent;\n",
              "      border-left-color: var(--fill-color);\n",
              "      border-top-color: var(--fill-color);\n",
              "      border-right-color: var(--fill-color);\n",
              "    }\n",
              "    40% {\n",
              "      border-color: transparent;\n",
              "      border-right-color: var(--fill-color);\n",
              "      border-top-color: var(--fill-color);\n",
              "    }\n",
              "    60% {\n",
              "      border-color: transparent;\n",
              "      border-right-color: var(--fill-color);\n",
              "    }\n",
              "    80% {\n",
              "      border-color: transparent;\n",
              "      border-right-color: var(--fill-color);\n",
              "      border-bottom-color: var(--fill-color);\n",
              "    }\n",
              "    90% {\n",
              "      border-color: transparent;\n",
              "      border-bottom-color: var(--fill-color);\n",
              "    }\n",
              "  }\n",
              "</style>\n",
              "\n",
              "  <script>\n",
              "    async function quickchart(key) {\n",
              "      const quickchartButtonEl =\n",
              "        document.querySelector('#' + key + ' button');\n",
              "      quickchartButtonEl.disabled = true;  // To prevent multiple clicks.\n",
              "      quickchartButtonEl.classList.add('colab-df-spinner');\n",
              "      try {\n",
              "        const charts = await google.colab.kernel.invokeFunction(\n",
              "            'suggestCharts', [key], {});\n",
              "      } catch (error) {\n",
              "        console.error('Error during call to suggestCharts:', error);\n",
              "      }\n",
              "      quickchartButtonEl.classList.remove('colab-df-spinner');\n",
              "      quickchartButtonEl.classList.add('colab-df-quickchart-complete');\n",
              "    }\n",
              "    (() => {\n",
              "      let quickchartButtonEl =\n",
              "        document.querySelector('#df-114f9f34-e2bf-48c1-86de-c8b263080ddc button');\n",
              "      quickchartButtonEl.style.display =\n",
              "        google.colab.kernel.accessAllowed ? 'block' : 'none';\n",
              "    })();\n",
              "  </script>\n",
              "</div>\n",
              "\n",
              "  <div id=\"id_4225be77-9138-4591-9d64-ef0acd667e2a\">\n",
              "    <style>\n",
              "      .colab-df-generate {\n",
              "        background-color: #E8F0FE;\n",
              "        border: none;\n",
              "        border-radius: 50%;\n",
              "        cursor: pointer;\n",
              "        display: none;\n",
              "        fill: #1967D2;\n",
              "        height: 32px;\n",
              "        padding: 0 0 0 0;\n",
              "        width: 32px;\n",
              "      }\n",
              "\n",
              "      .colab-df-generate:hover {\n",
              "        background-color: #E2EBFA;\n",
              "        box-shadow: 0px 1px 2px rgba(60, 64, 67, 0.3), 0px 1px 3px 1px rgba(60, 64, 67, 0.15);\n",
              "        fill: #174EA6;\n",
              "      }\n",
              "\n",
              "      [theme=dark] .colab-df-generate {\n",
              "        background-color: #3B4455;\n",
              "        fill: #D2E3FC;\n",
              "      }\n",
              "\n",
              "      [theme=dark] .colab-df-generate:hover {\n",
              "        background-color: #434B5C;\n",
              "        box-shadow: 0px 1px 3px 1px rgba(0, 0, 0, 0.15);\n",
              "        filter: drop-shadow(0px 1px 2px rgba(0, 0, 0, 0.3));\n",
              "        fill: #FFFFFF;\n",
              "      }\n",
              "    </style>\n",
              "    <button class=\"colab-df-generate\" onclick=\"generateWithVariable('my_dataset')\"\n",
              "            title=\"Generate code using this dataframe.\"\n",
              "            style=\"display:none;\">\n",
              "\n",
              "  <svg xmlns=\"http://www.w3.org/2000/svg\" height=\"24px\"viewBox=\"0 0 24 24\"\n",
              "       width=\"24px\">\n",
              "    <path d=\"M7,19H8.4L18.45,9,17,7.55,7,17.6ZM5,21V16.75L18.45,3.32a2,2,0,0,1,2.83,0l1.4,1.43a1.91,1.91,0,0,1,.58,1.4,1.91,1.91,0,0,1-.58,1.4L9.25,21ZM18.45,9,17,7.55Zm-12,3A5.31,5.31,0,0,0,4.9,8.1,5.31,5.31,0,0,0,1,6.5,5.31,5.31,0,0,0,4.9,4.9,5.31,5.31,0,0,0,6.5,1,5.31,5.31,0,0,0,8.1,4.9,5.31,5.31,0,0,0,12,6.5,5.46,5.46,0,0,0,6.5,12Z\"/>\n",
              "  </svg>\n",
              "    </button>\n",
              "    <script>\n",
              "      (() => {\n",
              "      const buttonEl =\n",
              "        document.querySelector('#id_4225be77-9138-4591-9d64-ef0acd667e2a button.colab-df-generate');\n",
              "      buttonEl.style.display =\n",
              "        google.colab.kernel.accessAllowed ? 'block' : 'none';\n",
              "\n",
              "      buttonEl.onclick = () => {\n",
              "        google.colab.notebook.generateWithVariable('my_dataset');\n",
              "      }\n",
              "      })();\n",
              "    </script>\n",
              "  </div>\n",
              "\n",
              "    </div>\n",
              "  </div>\n"
            ],
            "application/vnd.google.colaboratory.intrinsic+json": {
              "type": "dataframe",
              "variable_name": "my_dataset"
            }
          },
          "metadata": {},
          "execution_count": 88
        }
      ],
      "source": [
        "my_dataset"
      ]
    },
    {
      "cell_type": "markdown",
      "metadata": {
        "id": "wu6KeBirp-W7"
      },
      "source": [
        "Drop Null Value Rows"
      ]
    },
    {
      "cell_type": "code",
      "execution_count": 89,
      "metadata": {
        "colab": {
          "base_uri": "https://localhost:8080/",
          "height": 419
        },
        "id": "2vdHzNdVp-W7",
        "outputId": "34341a13-ab86-442b-a4c7-eaebcabac44c"
      },
      "outputs": [
        {
          "output_type": "execute_result",
          "data": {
            "text/plain": [
              "        Unnamed: 0  DepTime  ArrTime UniqueCarrier  FlightNum TailNum  \\\n",
              "0                0   2003.0   2211.0            WN        335  N712SW   \n",
              "1                1    754.0   1002.0            WN       3231  N772SW   \n",
              "2                2    628.0    804.0            WN        448  N428WN   \n",
              "3                4   1829.0   1959.0            WN       3920  N464WN   \n",
              "4                5   1940.0   2121.0            WN        378  N726SW   \n",
              "...            ...      ...      ...           ...        ...     ...   \n",
              "764358     2505442   1422.0   1748.0            XE       3048  N16571   \n",
              "764359     2505444   1931.0   2116.0            XE       2737  N17984   \n",
              "764360     2505445   1116.0   1254.0            XE       2845  N15941   \n",
              "764361     2505456   2129.0   2310.0            XE       2048  N15932   \n",
              "764362     2505458    829.0   1158.0            XE       2240  N26141   \n",
              "\n",
              "        ActualElapsedTime  AirTime Origin Dest  Distance  \n",
              "0                   128.0    116.0    IAD  TPA       810  \n",
              "1                   128.0    113.0    IAD  TPA       810  \n",
              "2                    96.0     76.0    IND  BWI       515  \n",
              "3                    90.0     77.0    IND  BWI       515  \n",
              "4                   101.0     87.0    IND  JAX       688  \n",
              "...                   ...      ...    ...  ...       ...  \n",
              "764358              146.0    128.0    IAH  CLT       913  \n",
              "764359              105.0     87.0    GSP  EWR       594  \n",
              "764360               98.0     62.0    IAH  TUL       429  \n",
              "764361              101.0     71.0    IAH  MEM       469  \n",
              "764362              149.0    133.0    IAH  RDU      1043  \n",
              "\n",
              "[761576 rows x 11 columns]"
            ],
            "text/html": [
              "\n",
              "  <div id=\"df-d7e0f2a2-87be-40d8-9aff-24c8e25a8cf4\" class=\"colab-df-container\">\n",
              "    <div>\n",
              "<style scoped>\n",
              "    .dataframe tbody tr th:only-of-type {\n",
              "        vertical-align: middle;\n",
              "    }\n",
              "\n",
              "    .dataframe tbody tr th {\n",
              "        vertical-align: top;\n",
              "    }\n",
              "\n",
              "    .dataframe thead th {\n",
              "        text-align: right;\n",
              "    }\n",
              "</style>\n",
              "<table border=\"1\" class=\"dataframe\">\n",
              "  <thead>\n",
              "    <tr style=\"text-align: right;\">\n",
              "      <th></th>\n",
              "      <th>Unnamed: 0</th>\n",
              "      <th>DepTime</th>\n",
              "      <th>ArrTime</th>\n",
              "      <th>UniqueCarrier</th>\n",
              "      <th>FlightNum</th>\n",
              "      <th>TailNum</th>\n",
              "      <th>ActualElapsedTime</th>\n",
              "      <th>AirTime</th>\n",
              "      <th>Origin</th>\n",
              "      <th>Dest</th>\n",
              "      <th>Distance</th>\n",
              "    </tr>\n",
              "  </thead>\n",
              "  <tbody>\n",
              "    <tr>\n",
              "      <th>0</th>\n",
              "      <td>0</td>\n",
              "      <td>2003.0</td>\n",
              "      <td>2211.0</td>\n",
              "      <td>WN</td>\n",
              "      <td>335</td>\n",
              "      <td>N712SW</td>\n",
              "      <td>128.0</td>\n",
              "      <td>116.0</td>\n",
              "      <td>IAD</td>\n",
              "      <td>TPA</td>\n",
              "      <td>810</td>\n",
              "    </tr>\n",
              "    <tr>\n",
              "      <th>1</th>\n",
              "      <td>1</td>\n",
              "      <td>754.0</td>\n",
              "      <td>1002.0</td>\n",
              "      <td>WN</td>\n",
              "      <td>3231</td>\n",
              "      <td>N772SW</td>\n",
              "      <td>128.0</td>\n",
              "      <td>113.0</td>\n",
              "      <td>IAD</td>\n",
              "      <td>TPA</td>\n",
              "      <td>810</td>\n",
              "    </tr>\n",
              "    <tr>\n",
              "      <th>2</th>\n",
              "      <td>2</td>\n",
              "      <td>628.0</td>\n",
              "      <td>804.0</td>\n",
              "      <td>WN</td>\n",
              "      <td>448</td>\n",
              "      <td>N428WN</td>\n",
              "      <td>96.0</td>\n",
              "      <td>76.0</td>\n",
              "      <td>IND</td>\n",
              "      <td>BWI</td>\n",
              "      <td>515</td>\n",
              "    </tr>\n",
              "    <tr>\n",
              "      <th>3</th>\n",
              "      <td>4</td>\n",
              "      <td>1829.0</td>\n",
              "      <td>1959.0</td>\n",
              "      <td>WN</td>\n",
              "      <td>3920</td>\n",
              "      <td>N464WN</td>\n",
              "      <td>90.0</td>\n",
              "      <td>77.0</td>\n",
              "      <td>IND</td>\n",
              "      <td>BWI</td>\n",
              "      <td>515</td>\n",
              "    </tr>\n",
              "    <tr>\n",
              "      <th>4</th>\n",
              "      <td>5</td>\n",
              "      <td>1940.0</td>\n",
              "      <td>2121.0</td>\n",
              "      <td>WN</td>\n",
              "      <td>378</td>\n",
              "      <td>N726SW</td>\n",
              "      <td>101.0</td>\n",
              "      <td>87.0</td>\n",
              "      <td>IND</td>\n",
              "      <td>JAX</td>\n",
              "      <td>688</td>\n",
              "    </tr>\n",
              "    <tr>\n",
              "      <th>...</th>\n",
              "      <td>...</td>\n",
              "      <td>...</td>\n",
              "      <td>...</td>\n",
              "      <td>...</td>\n",
              "      <td>...</td>\n",
              "      <td>...</td>\n",
              "      <td>...</td>\n",
              "      <td>...</td>\n",
              "      <td>...</td>\n",
              "      <td>...</td>\n",
              "      <td>...</td>\n",
              "    </tr>\n",
              "    <tr>\n",
              "      <th>764358</th>\n",
              "      <td>2505442</td>\n",
              "      <td>1422.0</td>\n",
              "      <td>1748.0</td>\n",
              "      <td>XE</td>\n",
              "      <td>3048</td>\n",
              "      <td>N16571</td>\n",
              "      <td>146.0</td>\n",
              "      <td>128.0</td>\n",
              "      <td>IAH</td>\n",
              "      <td>CLT</td>\n",
              "      <td>913</td>\n",
              "    </tr>\n",
              "    <tr>\n",
              "      <th>764359</th>\n",
              "      <td>2505444</td>\n",
              "      <td>1931.0</td>\n",
              "      <td>2116.0</td>\n",
              "      <td>XE</td>\n",
              "      <td>2737</td>\n",
              "      <td>N17984</td>\n",
              "      <td>105.0</td>\n",
              "      <td>87.0</td>\n",
              "      <td>GSP</td>\n",
              "      <td>EWR</td>\n",
              "      <td>594</td>\n",
              "    </tr>\n",
              "    <tr>\n",
              "      <th>764360</th>\n",
              "      <td>2505445</td>\n",
              "      <td>1116.0</td>\n",
              "      <td>1254.0</td>\n",
              "      <td>XE</td>\n",
              "      <td>2845</td>\n",
              "      <td>N15941</td>\n",
              "      <td>98.0</td>\n",
              "      <td>62.0</td>\n",
              "      <td>IAH</td>\n",
              "      <td>TUL</td>\n",
              "      <td>429</td>\n",
              "    </tr>\n",
              "    <tr>\n",
              "      <th>764361</th>\n",
              "      <td>2505456</td>\n",
              "      <td>2129.0</td>\n",
              "      <td>2310.0</td>\n",
              "      <td>XE</td>\n",
              "      <td>2048</td>\n",
              "      <td>N15932</td>\n",
              "      <td>101.0</td>\n",
              "      <td>71.0</td>\n",
              "      <td>IAH</td>\n",
              "      <td>MEM</td>\n",
              "      <td>469</td>\n",
              "    </tr>\n",
              "    <tr>\n",
              "      <th>764362</th>\n",
              "      <td>2505458</td>\n",
              "      <td>829.0</td>\n",
              "      <td>1158.0</td>\n",
              "      <td>XE</td>\n",
              "      <td>2240</td>\n",
              "      <td>N26141</td>\n",
              "      <td>149.0</td>\n",
              "      <td>133.0</td>\n",
              "      <td>IAH</td>\n",
              "      <td>RDU</td>\n",
              "      <td>1043</td>\n",
              "    </tr>\n",
              "  </tbody>\n",
              "</table>\n",
              "<p>761576 rows × 11 columns</p>\n",
              "</div>\n",
              "    <div class=\"colab-df-buttons\">\n",
              "\n",
              "  <div class=\"colab-df-container\">\n",
              "    <button class=\"colab-df-convert\" onclick=\"convertToInteractive('df-d7e0f2a2-87be-40d8-9aff-24c8e25a8cf4')\"\n",
              "            title=\"Convert this dataframe to an interactive table.\"\n",
              "            style=\"display:none;\">\n",
              "\n",
              "  <svg xmlns=\"http://www.w3.org/2000/svg\" height=\"24px\" viewBox=\"0 -960 960 960\">\n",
              "    <path d=\"M120-120v-720h720v720H120Zm60-500h600v-160H180v160Zm220 220h160v-160H400v160Zm0 220h160v-160H400v160ZM180-400h160v-160H180v160Zm440 0h160v-160H620v160ZM180-180h160v-160H180v160Zm440 0h160v-160H620v160Z\"/>\n",
              "  </svg>\n",
              "    </button>\n",
              "\n",
              "  <style>\n",
              "    .colab-df-container {\n",
              "      display:flex;\n",
              "      gap: 12px;\n",
              "    }\n",
              "\n",
              "    .colab-df-convert {\n",
              "      background-color: #E8F0FE;\n",
              "      border: none;\n",
              "      border-radius: 50%;\n",
              "      cursor: pointer;\n",
              "      display: none;\n",
              "      fill: #1967D2;\n",
              "      height: 32px;\n",
              "      padding: 0 0 0 0;\n",
              "      width: 32px;\n",
              "    }\n",
              "\n",
              "    .colab-df-convert:hover {\n",
              "      background-color: #E2EBFA;\n",
              "      box-shadow: 0px 1px 2px rgba(60, 64, 67, 0.3), 0px 1px 3px 1px rgba(60, 64, 67, 0.15);\n",
              "      fill: #174EA6;\n",
              "    }\n",
              "\n",
              "    .colab-df-buttons div {\n",
              "      margin-bottom: 4px;\n",
              "    }\n",
              "\n",
              "    [theme=dark] .colab-df-convert {\n",
              "      background-color: #3B4455;\n",
              "      fill: #D2E3FC;\n",
              "    }\n",
              "\n",
              "    [theme=dark] .colab-df-convert:hover {\n",
              "      background-color: #434B5C;\n",
              "      box-shadow: 0px 1px 3px 1px rgba(0, 0, 0, 0.15);\n",
              "      filter: drop-shadow(0px 1px 2px rgba(0, 0, 0, 0.3));\n",
              "      fill: #FFFFFF;\n",
              "    }\n",
              "  </style>\n",
              "\n",
              "    <script>\n",
              "      const buttonEl =\n",
              "        document.querySelector('#df-d7e0f2a2-87be-40d8-9aff-24c8e25a8cf4 button.colab-df-convert');\n",
              "      buttonEl.style.display =\n",
              "        google.colab.kernel.accessAllowed ? 'block' : 'none';\n",
              "\n",
              "      async function convertToInteractive(key) {\n",
              "        const element = document.querySelector('#df-d7e0f2a2-87be-40d8-9aff-24c8e25a8cf4');\n",
              "        const dataTable =\n",
              "          await google.colab.kernel.invokeFunction('convertToInteractive',\n",
              "                                                    [key], {});\n",
              "        if (!dataTable) return;\n",
              "\n",
              "        const docLinkHtml = 'Like what you see? Visit the ' +\n",
              "          '<a target=\"_blank\" href=https://colab.research.google.com/notebooks/data_table.ipynb>data table notebook</a>'\n",
              "          + ' to learn more about interactive tables.';\n",
              "        element.innerHTML = '';\n",
              "        dataTable['output_type'] = 'display_data';\n",
              "        await google.colab.output.renderOutput(dataTable, element);\n",
              "        const docLink = document.createElement('div');\n",
              "        docLink.innerHTML = docLinkHtml;\n",
              "        element.appendChild(docLink);\n",
              "      }\n",
              "    </script>\n",
              "  </div>\n",
              "\n",
              "\n",
              "<div id=\"df-afa977b2-0329-43eb-be53-29eda57ac6e1\">\n",
              "  <button class=\"colab-df-quickchart\" onclick=\"quickchart('df-afa977b2-0329-43eb-be53-29eda57ac6e1')\"\n",
              "            title=\"Suggest charts\"\n",
              "            style=\"display:none;\">\n",
              "\n",
              "<svg xmlns=\"http://www.w3.org/2000/svg\" height=\"24px\"viewBox=\"0 0 24 24\"\n",
              "     width=\"24px\">\n",
              "    <g>\n",
              "        <path d=\"M19 3H5c-1.1 0-2 .9-2 2v14c0 1.1.9 2 2 2h14c1.1 0 2-.9 2-2V5c0-1.1-.9-2-2-2zM9 17H7v-7h2v7zm4 0h-2V7h2v10zm4 0h-2v-4h2v4z\"/>\n",
              "    </g>\n",
              "</svg>\n",
              "  </button>\n",
              "\n",
              "<style>\n",
              "  .colab-df-quickchart {\n",
              "      --bg-color: #E8F0FE;\n",
              "      --fill-color: #1967D2;\n",
              "      --hover-bg-color: #E2EBFA;\n",
              "      --hover-fill-color: #174EA6;\n",
              "      --disabled-fill-color: #AAA;\n",
              "      --disabled-bg-color: #DDD;\n",
              "  }\n",
              "\n",
              "  [theme=dark] .colab-df-quickchart {\n",
              "      --bg-color: #3B4455;\n",
              "      --fill-color: #D2E3FC;\n",
              "      --hover-bg-color: #434B5C;\n",
              "      --hover-fill-color: #FFFFFF;\n",
              "      --disabled-bg-color: #3B4455;\n",
              "      --disabled-fill-color: #666;\n",
              "  }\n",
              "\n",
              "  .colab-df-quickchart {\n",
              "    background-color: var(--bg-color);\n",
              "    border: none;\n",
              "    border-radius: 50%;\n",
              "    cursor: pointer;\n",
              "    display: none;\n",
              "    fill: var(--fill-color);\n",
              "    height: 32px;\n",
              "    padding: 0;\n",
              "    width: 32px;\n",
              "  }\n",
              "\n",
              "  .colab-df-quickchart:hover {\n",
              "    background-color: var(--hover-bg-color);\n",
              "    box-shadow: 0 1px 2px rgba(60, 64, 67, 0.3), 0 1px 3px 1px rgba(60, 64, 67, 0.15);\n",
              "    fill: var(--button-hover-fill-color);\n",
              "  }\n",
              "\n",
              "  .colab-df-quickchart-complete:disabled,\n",
              "  .colab-df-quickchart-complete:disabled:hover {\n",
              "    background-color: var(--disabled-bg-color);\n",
              "    fill: var(--disabled-fill-color);\n",
              "    box-shadow: none;\n",
              "  }\n",
              "\n",
              "  .colab-df-spinner {\n",
              "    border: 2px solid var(--fill-color);\n",
              "    border-color: transparent;\n",
              "    border-bottom-color: var(--fill-color);\n",
              "    animation:\n",
              "      spin 1s steps(1) infinite;\n",
              "  }\n",
              "\n",
              "  @keyframes spin {\n",
              "    0% {\n",
              "      border-color: transparent;\n",
              "      border-bottom-color: var(--fill-color);\n",
              "      border-left-color: var(--fill-color);\n",
              "    }\n",
              "    20% {\n",
              "      border-color: transparent;\n",
              "      border-left-color: var(--fill-color);\n",
              "      border-top-color: var(--fill-color);\n",
              "    }\n",
              "    30% {\n",
              "      border-color: transparent;\n",
              "      border-left-color: var(--fill-color);\n",
              "      border-top-color: var(--fill-color);\n",
              "      border-right-color: var(--fill-color);\n",
              "    }\n",
              "    40% {\n",
              "      border-color: transparent;\n",
              "      border-right-color: var(--fill-color);\n",
              "      border-top-color: var(--fill-color);\n",
              "    }\n",
              "    60% {\n",
              "      border-color: transparent;\n",
              "      border-right-color: var(--fill-color);\n",
              "    }\n",
              "    80% {\n",
              "      border-color: transparent;\n",
              "      border-right-color: var(--fill-color);\n",
              "      border-bottom-color: var(--fill-color);\n",
              "    }\n",
              "    90% {\n",
              "      border-color: transparent;\n",
              "      border-bottom-color: var(--fill-color);\n",
              "    }\n",
              "  }\n",
              "</style>\n",
              "\n",
              "  <script>\n",
              "    async function quickchart(key) {\n",
              "      const quickchartButtonEl =\n",
              "        document.querySelector('#' + key + ' button');\n",
              "      quickchartButtonEl.disabled = true;  // To prevent multiple clicks.\n",
              "      quickchartButtonEl.classList.add('colab-df-spinner');\n",
              "      try {\n",
              "        const charts = await google.colab.kernel.invokeFunction(\n",
              "            'suggestCharts', [key], {});\n",
              "      } catch (error) {\n",
              "        console.error('Error during call to suggestCharts:', error);\n",
              "      }\n",
              "      quickchartButtonEl.classList.remove('colab-df-spinner');\n",
              "      quickchartButtonEl.classList.add('colab-df-quickchart-complete');\n",
              "    }\n",
              "    (() => {\n",
              "      let quickchartButtonEl =\n",
              "        document.querySelector('#df-afa977b2-0329-43eb-be53-29eda57ac6e1 button');\n",
              "      quickchartButtonEl.style.display =\n",
              "        google.colab.kernel.accessAllowed ? 'block' : 'none';\n",
              "    })();\n",
              "  </script>\n",
              "</div>\n",
              "\n",
              "  <div id=\"id_d27d4138-4c7a-4442-b0b8-2c338197952f\">\n",
              "    <style>\n",
              "      .colab-df-generate {\n",
              "        background-color: #E8F0FE;\n",
              "        border: none;\n",
              "        border-radius: 50%;\n",
              "        cursor: pointer;\n",
              "        display: none;\n",
              "        fill: #1967D2;\n",
              "        height: 32px;\n",
              "        padding: 0 0 0 0;\n",
              "        width: 32px;\n",
              "      }\n",
              "\n",
              "      .colab-df-generate:hover {\n",
              "        background-color: #E2EBFA;\n",
              "        box-shadow: 0px 1px 2px rgba(60, 64, 67, 0.3), 0px 1px 3px 1px rgba(60, 64, 67, 0.15);\n",
              "        fill: #174EA6;\n",
              "      }\n",
              "\n",
              "      [theme=dark] .colab-df-generate {\n",
              "        background-color: #3B4455;\n",
              "        fill: #D2E3FC;\n",
              "      }\n",
              "\n",
              "      [theme=dark] .colab-df-generate:hover {\n",
              "        background-color: #434B5C;\n",
              "        box-shadow: 0px 1px 3px 1px rgba(0, 0, 0, 0.15);\n",
              "        filter: drop-shadow(0px 1px 2px rgba(0, 0, 0, 0.3));\n",
              "        fill: #FFFFFF;\n",
              "      }\n",
              "    </style>\n",
              "    <button class=\"colab-df-generate\" onclick=\"generateWithVariable('my_dataset')\"\n",
              "            title=\"Generate code using this dataframe.\"\n",
              "            style=\"display:none;\">\n",
              "\n",
              "  <svg xmlns=\"http://www.w3.org/2000/svg\" height=\"24px\"viewBox=\"0 0 24 24\"\n",
              "       width=\"24px\">\n",
              "    <path d=\"M7,19H8.4L18.45,9,17,7.55,7,17.6ZM5,21V16.75L18.45,3.32a2,2,0,0,1,2.83,0l1.4,1.43a1.91,1.91,0,0,1,.58,1.4,1.91,1.91,0,0,1-.58,1.4L9.25,21ZM18.45,9,17,7.55Zm-12,3A5.31,5.31,0,0,0,4.9,8.1,5.31,5.31,0,0,0,1,6.5,5.31,5.31,0,0,0,4.9,4.9,5.31,5.31,0,0,0,6.5,1,5.31,5.31,0,0,0,8.1,4.9,5.31,5.31,0,0,0,12,6.5,5.46,5.46,0,0,0,6.5,12Z\"/>\n",
              "  </svg>\n",
              "    </button>\n",
              "    <script>\n",
              "      (() => {\n",
              "      const buttonEl =\n",
              "        document.querySelector('#id_d27d4138-4c7a-4442-b0b8-2c338197952f button.colab-df-generate');\n",
              "      buttonEl.style.display =\n",
              "        google.colab.kernel.accessAllowed ? 'block' : 'none';\n",
              "\n",
              "      buttonEl.onclick = () => {\n",
              "        google.colab.notebook.generateWithVariable('my_dataset');\n",
              "      }\n",
              "      })();\n",
              "    </script>\n",
              "  </div>\n",
              "\n",
              "    </div>\n",
              "  </div>\n"
            ],
            "application/vnd.google.colaboratory.intrinsic+json": {
              "type": "dataframe",
              "variable_name": "my_dataset"
            }
          },
          "metadata": {},
          "execution_count": 89
        }
      ],
      "source": [
        "my_dataset = my_dataset.dropna()\n",
        "#thresh=half_count,\n",
        "my_dataset"
      ]
    },
    {
      "cell_type": "markdown",
      "metadata": {
        "id": "f95j73D5p-W7"
      },
      "source": [
        "Store Unique Airports Names In A List"
      ]
    },
    {
      "cell_type": "code",
      "execution_count": 90,
      "metadata": {
        "colab": {
          "base_uri": "https://localhost:8080/"
        },
        "id": "mfLB4uRsp-W7",
        "outputId": "8b4dad35-3a5a-480d-b40f-38ff96367560"
      },
      "outputs": [
        {
          "output_type": "stream",
          "name": "stdout",
          "text": [
            "['IAD' 'IND' 'ISP' 'JAN' 'JAX' 'LAS' 'LAX' 'LBB' 'LIT' 'MAF' 'MCI' 'MCO'\n",
            " 'MDW' 'MHT' 'MSY' 'OAK' 'OKC' 'OMA' 'ONT' 'ORF' 'PBI' 'PDX' 'PHL' 'PHX'\n",
            " 'PIT' 'PVD' 'RDU' 'RNO' 'RSW' 'SAN' 'SAT' 'SDF' 'SEA' 'SFO' 'SJC' 'SLC'\n",
            " 'SMF' 'SNA' 'STL' 'TPA' 'TUL' 'TUS' 'ABQ' 'ALB' 'AMA' 'AUS' 'BDL' 'BHM'\n",
            " 'BNA' 'BOI' 'BUF' 'BUR' 'BWI' 'CLE' 'CMH' 'CRP' 'DAL' 'DEN' 'DTW' 'ELP'\n",
            " 'FLL' 'GEG' 'HOU' 'HRL' 'ROC' 'ORD' 'EWR' 'SYR' 'IAH' 'CRW' 'FAT' 'COS'\n",
            " 'MRY' 'LGB' 'BFL' 'EUG' 'ICT' 'MEM' 'BTV' 'MKE' 'LFT' 'BRO' 'PWM' 'MSP'\n",
            " 'SRQ' 'CLT' 'CVG' 'GSO' 'SHV' 'DCA' 'TYS' 'GSP' 'RIC' 'DFW' 'BGR' 'DAY'\n",
            " 'GRR' 'CHS' 'CAE' 'TLH' 'XNA' 'GPT' 'VPS' 'LGA' 'ATL' 'MSN' 'SAV' 'BTR'\n",
            " 'LEX' 'LRD' 'MOB' 'MTJ' 'GRK' 'AEX' 'PNS' 'ABE' 'HSV' 'CHA' 'MFE' 'MLU'\n",
            " 'DSM' 'MGM' 'AVL' 'LCH' 'BOS' 'MYR' 'CLL' 'DAB' 'ASE' 'ATW' 'BMI' 'CAK'\n",
            " 'CID' 'CPR' 'EGE' 'FLG' 'FSD' 'FWA' 'GJT' 'GRB' 'HNL' 'KOA' 'LAN' 'LIH'\n",
            " 'MBS' 'MDT' 'MFR' 'OGG' 'PSP' 'RAP' 'ROA' 'SBA' 'SBN' 'SPI' 'TEX' 'YUM'\n",
            " 'AVP' 'CWA' 'DRO' 'ILM' 'ITO' 'JFK' 'TVC' 'HDN' 'SBP' 'CLD' 'HPN' 'MIA'\n",
            " 'SGF' 'TRI' 'SUN' 'SGU' 'SLE' 'MSO' 'BZN' 'YKM' 'GTF' 'BIL' 'JAC' 'MOD'\n",
            " 'FAR' 'GUC' 'AZO' 'PIA' 'MLI' 'LNK' 'FCA' 'IDA' 'BIS' 'PSC' 'COD' 'TWF'\n",
            " 'RDM' 'HLN' 'RDD' 'PIH' 'EKO' 'LWS' 'SMX' 'ACV' 'OXR' 'CEC' 'CIC' 'PMD'\n",
            " 'RFD' 'BTM' 'IYK' 'IPL' 'BLI' 'CDC' 'SJU' 'STT' 'ANC' 'STX' 'MLB' 'PHF'\n",
            " 'PFN' 'FAY' 'AGS' 'GNV' 'ABY' 'DHN' 'EVV' 'FNT' 'OAJ' 'TOL' 'SWF' 'EWN'\n",
            " 'MEI' 'GTR' 'LYH' 'HHH' 'EYW' 'VLD' 'CSG' 'ACY' 'FSM' 'MCN' 'CHO' 'FLO'\n",
            " 'BQK' 'SCE' 'TUP' 'TYR' 'LAW' 'SPS' 'ABI' 'GGG' 'ACT' 'SJT' 'TXK' 'CMI'\n",
            " 'ROW' 'RST' 'MQT' 'LSE' 'DBQ' 'GFK' 'MOT' 'DLH' 'SUX' 'PLN' 'BGM' 'ERI'\n",
            " 'ALO' 'CMX' 'RHI' 'ELM' 'JNU' 'KTN' 'SIT' 'PSG' 'CDV' 'YAK' 'BRW' 'OME'\n",
            " 'OTZ' 'BET' 'FAI' 'SCC' 'ADQ' 'WRG' 'ADK' 'PSE' 'BQN' 'BPT' 'RKS' 'GCC'\n",
            " 'MKG' 'DLG' 'AKN']\n"
          ]
        }
      ],
      "source": [
        "import pandas as pd # Import the pandas library\n",
        "\n",
        "uniqueValues = pd.concat([my_dataset['Origin'], my_dataset['Dest']]).unique()\n",
        "print(uniqueValues)"
      ]
    },
    {
      "cell_type": "code",
      "execution_count": 91,
      "metadata": {
        "colab": {
          "base_uri": "https://localhost:8080/"
        },
        "id": "5VXvr7gUp-W8",
        "outputId": "ba47dd50-af12-43f5-f63f-31e6d03b7919"
      },
      "outputs": [
        {
          "output_type": "stream",
          "name": "stdout",
          "text": [
            "<class 'numpy.ndarray'>\n"
          ]
        }
      ],
      "source": [
        "print(type(uniqueValues))"
      ]
    },
    {
      "cell_type": "code",
      "execution_count": 92,
      "metadata": {
        "id": "_rjb8Ujlp-W8"
      },
      "outputs": [],
      "source": [
        "import pickle\n",
        "with open('airport.pkl', 'wb') as m:\n",
        "    pickle.dump(uniqueValues, m)"
      ]
    },
    {
      "cell_type": "markdown",
      "metadata": {
        "id": "gW1P8OsMp-W8"
      },
      "source": [
        "Declaring Node For Each Airport In The List"
      ]
    },
    {
      "cell_type": "code",
      "execution_count": 93,
      "metadata": {
        "id": "JiS8RR6fp-W8"
      },
      "outputs": [],
      "source": [
        "for airport in uniqueValues:\n",
        "    G.add_node(airport, name=airport)"
      ]
    },
    {
      "cell_type": "markdown",
      "metadata": {
        "id": "x16sGLtPp-W8"
      },
      "source": [
        "Total No Of Nodes/Airports"
      ]
    },
    {
      "cell_type": "code",
      "execution_count": 94,
      "metadata": {
        "colab": {
          "base_uri": "https://localhost:8080/"
        },
        "id": "FbHAe6S8p-W8",
        "outputId": "835526de-2605-4fee-ce06-4309793dad15"
      },
      "outputs": [
        {
          "output_type": "execute_result",
          "data": {
            "text/plain": [
              "291"
            ]
          },
          "metadata": {},
          "execution_count": 94
        }
      ],
      "source": [
        "G.number_of_nodes()"
      ]
    },
    {
      "cell_type": "markdown",
      "metadata": {
        "id": "wVEAwUNKp-W8"
      },
      "source": [
        "Graphical Representation Of Nodes"
      ]
    },
    {
      "cell_type": "code",
      "execution_count": 95,
      "metadata": {
        "colab": {
          "base_uri": "https://localhost:8080/",
          "height": 1000
        },
        "id": "M6BVdu6pp-W8",
        "outputId": "d7bb6fcb-7c2a-4361-d3ab-529a24c240b3"
      },
      "outputs": [
        {
          "output_type": "display_data",
          "data": {
            "text/plain": [
              "<Figure size 1000x1000 with 1 Axes>"
            ],
            "image/png": "[encoded data removed]"
          },
          "metadata": {}
        }
      ],
      "source": [
        "import networkx as nx\n",
        "import matplotlib.pyplot as plt\n",
        "\n",
        "# Assuming G is your original graph\n",
        "\n",
        "# Specify the airport code of interest\n",
        "target_airport = 'MHT'  # Replace 'ATL' with your desired airport code\n",
        "\n",
        "# Get the neighbors of the target airport\n",
        "neighbors = list(G.neighbors(target_airport))\n",
        "\n",
        "# Include the target airport itself in the list of nodes to visualize\n",
        "nodes_to_draw = neighbors + [target_airport]\n",
        "\n",
        "# Create a subgraph with just these nodes\n",
        "subgraph = G.subgraph(nodes_to_draw)\n",
        "\n",
        "# Draw the subgraph\n",
        "plt.figure(figsize=(10, 10))  # Adjust figure size as needed\n",
        "nx.draw(subgraph, with_labels=True, node_size=500, node_color='skyblue', font_size=10, font_color='black', edge_color='gray')\n",
        "plt.show()\n"
      ]
    },
    {
      "cell_type": "markdown",
      "metadata": {
        "id": "_AMHW3Fpp-W8"
      },
      "source": [
        "Making Edges Between The Airports With Weights As Min Time"
      ]
    },
    {
      "cell_type": "code",
      "execution_count": null,
      "metadata": {
        "id": "FVoqi0Mep-W9"
      },
      "outputs": [],
      "source": [
        "for flight in my_dataset.index:\n",
        "    # print (my_dataset['FlightNum'][train])\n",
        "    # G.add_edge(my_dataset['Origin'], my_dataset['Dest'], weight=my_dataset['ActualElapsedTime'])\n",
        "    # G.add_edge(my_dataset['Origin'][train], my_dataset['Dest'][train], l=my_dataset['ActualElapsedTime'][train],flight=my_dataset['FlightNum'][train])\n",
        "\n",
        "    if not G.has_edge(my_dataset['Origin'][flight], my_dataset['Dest'][flight]):\n",
        "        G.add_edge(my_dataset['Origin'][flight], my_dataset['Dest'][flight], l=my_dataset['ActualElapsedTime'][flight],flight=my_dataset['FlightNum'][flight])\n",
        "    elif G[my_dataset['Origin'][flight]][my_dataset['Dest'][flight]][0][\"l\"] > my_dataset['ActualElapsedTime'][flight]:\n",
        "        G[my_dataset['Origin'][flight]][my_dataset['Dest'][flight]][0][\"l\"] = my_dataset['ActualElapsedTime'][flight]\n",
        "        G[my_dataset['Origin'][flight]][my_dataset['Dest'][flight]][0][\"flight\"] = my_dataset['FlightNum'][flight]\n",
        "\n",
        "\n",
        "\n",
        "# import networkx as nx\n",
        "# G = nx.MultiDiGraph()\n",
        "# G.add_edge(\"A\", \"B\", weight=3)\n",
        "# G.add_edge(\"A\", \"C\", weight=10)\n",
        "# G.edges(data=True)\n",
        "# check if edge exists\n",
        "\n",
        "\n",
        "# if G.has_edge(\"A\", \"B\") and G[\"A\"][\"B\"][0][\"weight\"] > 5:\n",
        "#     G[\"A\"][\"B\"][0][\"weight\"] = 5\n",
        "# elif not G.has_edge(\"A\", \"B\"):\n",
        "#     G.add_edge(\"A\", \"B\", weight=5)\n",
        "    # continue\n",
        "# nx.shortest_path(G, \"A\", \"B\", weight=\"weight\")\n",
        "# G.edges(data=True)"
      ]
    },
    {
      "cell_type": "code",
      "execution_count": null,
      "metadata": {
        "id": "h7p-CPkep-W9"
      },
      "outputs": [],
      "source": [
        "G.number_of_edges()"
      ]
    },
    {
      "cell_type": "code",
      "execution_count": null,
      "metadata": {
        "id": "uxZ_BwfFp-W9"
      },
      "outputs": [],
      "source": [
        "G.number_of_nodes()"
      ]
    },
    {
      "cell_type": "markdown",
      "metadata": {
        "id": "gvIzKHbep-W9"
      },
      "source": [
        "Graphical Representation"
      ]
    },
    {
      "cell_type": "code",
      "execution_count": null,
      "metadata": {
        "id": "meaR3G1Gp-W9"
      },
      "outputs": [],
      "source": [
        "import matplotlib.pyplot as plt\n",
        "import networkx as nx\n",
        "\n",
        "# Use spring_layout with increased 'k' to spread nodes out\n",
        "pos = nx.spring_layout(G, k=0.5, iterations=50)\n",
        "\n",
        "# Increase figure size for better visibility\n",
        "plt.figure(figsize=(20, 20))\n",
        "\n",
        "# Draw the graph with labels and adjust node size and font size\n",
        "nx.draw(G, pos, with_labels=True, node_size=50, font_size=8, edge_color='gray', node_color='blue')\n",
        "\n",
        "plt.show()\n"
      ]
    },
    {
      "cell_type": "code",
      "execution_count": null,
      "metadata": {
        "id": "Si0NhVDLp-W9"
      },
      "outputs": [],
      "source": [
        "G.number_of_edges()"
      ]
    },
    {
      "cell_type": "markdown",
      "metadata": {
        "id": "ArTlN9dSp-W9"
      },
      "source": [
        "Centrality Measures For Each Nodes"
      ]
    },
    {
      "cell_type": "markdown",
      "metadata": {
        "id": "3UEwAPLOp-W9"
      },
      "source": [
        "Degree Centrality (DC)"
      ]
    },
    {
      "cell_type": "code",
      "execution_count": null,
      "metadata": {
        "id": "sDo93-N0p-W9"
      },
      "outputs": [],
      "source": [
        "nx.degree_centrality(G)"
      ]
    },
    {
      "cell_type": "markdown",
      "metadata": {
        "id": "-h1i0WBMp-W9"
      },
      "source": [
        "Betweenness Centrality"
      ]
    },
    {
      "cell_type": "code",
      "execution_count": null,
      "metadata": {
        "id": "qOcl2xrZp-W9"
      },
      "outputs": [],
      "source": [
        "nx.betweenness_centrality(G)"
      ]
    },
    {
      "cell_type": "markdown",
      "metadata": {
        "id": "bwXh6rOqp-W9"
      },
      "source": [
        "Top 10 Airports With Highest Degree"
      ]
    },
    {
      "cell_type": "code",
      "execution_count": null,
      "metadata": {
        "id": "23FORC1Ip-W9"
      },
      "outputs": [],
      "source": [
        "l=list(G.degree(list(G.nodes())))\n",
        "l.sort(key=lambda x: x[1], reverse=True)"
      ]
    },
    {
      "cell_type": "code",
      "execution_count": null,
      "metadata": {
        "id": "zhZBy7vzp-W9"
      },
      "outputs": [],
      "source": [
        "\n",
        "l[:10] #top 10 nodes with highest degree (stations with most number of flights)"
      ]
    },
    {
      "cell_type": "markdown",
      "metadata": {
        "id": "0cNUPv1Lp-W-"
      },
      "source": [
        "**Flight**"
      ]
    },
    {
      "cell_type": "code",
      "execution_count": null,
      "metadata": {
        "id": "yj_zIHmKp-W-"
      },
      "outputs": [],
      "source": [
        "G.edges('ATL')"
      ]
    },
    {
      "cell_type": "code",
      "execution_count": null,
      "metadata": {
        "id": "f4mOJSCnp-W-"
      },
      "outputs": [],
      "source": [
        "G.degree('ATL')"
      ]
    },
    {
      "cell_type": "code",
      "execution_count": null,
      "metadata": {
        "id": "Gy8Gm1xRp-W-"
      },
      "outputs": [],
      "source": [
        "for i in uniqueValues:\n",
        "    print(i)"
      ]
    },
    {
      "cell_type": "markdown",
      "metadata": {
        "id": "sh7wY2DKp-W-"
      },
      "source": [
        "Airport With Their Degrees"
      ]
    },
    {
      "cell_type": "code",
      "execution_count": null,
      "metadata": {
        "id": "jMsqW8t3p-W-"
      },
      "outputs": [],
      "source": [
        "dict={}\n",
        "for i in uniqueValues:\n",
        "    dict[i]=G.degree(i)\n",
        "dict"
      ]
    },
    {
      "cell_type": "code",
      "execution_count": null,
      "metadata": {
        "id": "ApC5QRhIp-W-"
      },
      "outputs": [],
      "source": [
        "df =pd.DataFrame(nx.adjacency_matrix(G, weight=\"l\").todense(), index=G.nodes(), columns=G.nodes())\n",
        "df"
      ]
    },
    {
      "cell_type": "markdown",
      "metadata": {
        "id": "ENggzI3Lp-W-"
      },
      "source": [
        "Saving Shorted Distance Matrix"
      ]
    },
    {
      "cell_type": "code",
      "execution_count": null,
      "metadata": {
        "id": "awMJapzKp-W-"
      },
      "outputs": [],
      "source": [
        "import pickle\n",
        "dbfile = open('df', 'ab')\n",
        "pickle.dump(df, dbfile)\n",
        "dbfile.close()\n",
        "\n",
        "# dbfile = open('examplePickle', 'rb')\n",
        "# G = pickle.load(dbfile)\n",
        "# dbfile.close()"
      ]
    },
    {
      "cell_type": "code",
      "execution_count": null,
      "metadata": {
        "id": "ogRNjbF8p-W-"
      },
      "outputs": [],
      "source": [
        "dbfile = open('df', 'rb')\n",
        "df2 = pickle.load(dbfile)\n",
        "dbfile.close()"
      ]
    },
    {
      "cell_type": "code",
      "execution_count": null,
      "metadata": {
        "id": "9ey6grHap-W-"
      },
      "outputs": [],
      "source": [
        "df2"
      ]
    },
    {
      "cell_type": "code",
      "execution_count": null,
      "metadata": {
        "id": "F9ElMGwJp-W-"
      },
      "outputs": [],
      "source": [
        "o=nx.shortest_path_length(G, source=\"ATL\", target=\"IND\", weight=\"l\")\n",
        "o"
      ]
    },
    {
      "cell_type": "code",
      "execution_count": null,
      "metadata": {
        "id": "JgjW87kTp-W-"
      },
      "outputs": [],
      "source": [
        "shortestPathByDistanceTimeDF =pd.DataFrame( index=G.nodes(), columns=G.nodes())\n",
        "for i in G.nodes():\n",
        "    for j in G.nodes():\n",
        "        if i==j:\n",
        "            continue\n",
        "        lst=[]\n",
        "        # try:\n",
        "        #     lst.append(nx.shortest_path_length(G, source=i, target=j, weight=\"distance\"))\n",
        "        # except nx.NetworkXNoPath:\n",
        "        #     lst.append(None)\n",
        "        try:\n",
        "            lst.append(nx.shortest_path_length(G, source=i, target=j, weight=\"l\"))\n",
        "        except nx.NetworkXNoPath:\n",
        "            lst.append(None)\n",
        "\n",
        "        shortestPathByDistanceTimeDF.loc[i,j] = lst"
      ]
    },
    {
      "cell_type": "markdown",
      "metadata": {
        "id": "CGyJwqY0p-W-"
      },
      "source": [
        "SHORTEST PATH DISTANCE"
      ]
    },
    {
      "cell_type": "code",
      "execution_count": null,
      "metadata": {
        "id": "Jm_euuRfp-W-"
      },
      "outputs": [],
      "source": [
        "shortestPathByDistanceTimeDF"
      ]
    },
    {
      "cell_type": "markdown",
      "metadata": {
        "id": "0n-31VMVp-W_"
      },
      "source": [
        "SHORTEST PATH"
      ]
    },
    {
      "cell_type": "code",
      "execution_count": null,
      "metadata": {
        "id": "7CtoWktMp-W_"
      },
      "outputs": [],
      "source": [
        "import networkx as nx\n",
        "\n",
        "# Check if the nodes exist in the graph, considering case sensitivity\n",
        "source_node = \"lmt\"\n",
        "target_node = \"pir\"\n",
        "\n",
        "# Check if both source and target nodes are in the graph\n",
        "if source_node in G.nodes() and target_node in G.nodes():\n",
        "    try:\n",
        "        # Calculate the shortest path using lowercase node names\n",
        "        p = nx.shortest_path(G, source=source_node, target=target_node, weight=\"l\")\n",
        "        print(f\"The shortest path from {source_node} to {target_node} is: {p}\")\n",
        "    except nx.NetworkXNoPath:\n",
        "        print(f\"No path exists between {source_node} and {target_node}.\")\n",
        "    except nx.NodeNotFound as e:\n",
        "        print(f\"NodeNotFound error: {e}\")\n",
        "else:\n",
        "    missing_nodes = [node for node in [source_node, target_node] if node not in G.nodes()]\n",
        "    print(f\"Node(s) not found in the graph: {', '.join(missing_nodes)}\")\n"
      ]
    },
    {
      "cell_type": "code",
      "execution_count": null,
      "metadata": {
        "id": "SJJ9CxBdp-W_"
      },
      "outputs": [],
      "source": [
        "import pickle\n",
        "with open('graph.pkl', 'wb') as m:\n",
        "    pickle.dump(G, m)"
      ]
    },
    {
      "cell_type": "code",
      "execution_count": null,
      "metadata": {
        "id": "faEjsnUyp-W_"
      },
      "outputs": [],
      "source": [
        "n = 20\n",
        "k = 4\n",
        "p = 0.3\n",
        "seed = 42\n",
        "\n",
        "G8 = nx.watts_strogatz_graph(n, k, p, seed=seed)\n",
        "\n",
        "# Draw the graph using the default layout\n",
        "nx.draw(G8, with_labels=True)"
      ]
    },
    {
      "cell_type": "code",
      "execution_count": null,
      "metadata": {
        "id": "2MMO7wmTp-W_"
      },
      "outputs": [],
      "source": [
        "nodes = [1, 2, 3, 4, 5]\n",
        "# Create a subgraph from the selected nodes\n",
        "subgraph = G.subgraph(nodes)\n",
        "\n",
        "# Draw the original graph and the subgraph side by side\n",
        "fig, (ax1, ax2) = plt.subplots(ncols=2, figsize=(10, 5))\n",
        "\n",
        "nx.draw(G, ax=ax1, with_labels=True)\n",
        "ax1.set_title('Original Graph')\n",
        "\n",
        "nx.draw(subgraph, ax=ax2, with_labels=True)\n",
        "ax2.set_title('Subgraph')\n",
        "\n",
        "plt.show()"
      ]
    },
    {
      "cell_type": "code",
      "execution_count": null,
      "metadata": {
        "id": "yVRIvQyZp-W_"
      },
      "outputs": [],
      "source": [
        "import networkx as nx\n",
        "G_simple = nx.Graph(G)\n",
        "\n",
        "# Find the cycle basis of the graph\n",
        "cycle_basis = nx.cycle_basis(G_simple, root=\"ATL\")\n",
        "\n",
        "# Print the cycle basis\n",
        "print(len(cycle_basis))"
      ]
    },
    {
      "cell_type": "code",
      "execution_count": null,
      "metadata": {
        "id": "xB2uZmpDp-W_"
      },
      "outputs": [],
      "source": [
        "G0 = nx.Graph(G)\n",
        "efficiency = nx.efficiency(G0, \"ATL\", \"YUM\")\n",
        "\n",
        "# Print the efficiency\n",
        "print(efficiency)"
      ]
    },
    {
      "cell_type": "code",
      "execution_count": null,
      "metadata": {
        "id": "hN0T8omyp-W_"
      },
      "outputs": [],
      "source": [
        "#CSV To Dataframe\n",
        "import pandas as pd\n",
        "station_code = pd.read_csv('US-Airport-Codes.csv',  low_memory=False)\n",
        "station_code"
      ]
    },
    {
      "cell_type": "code",
      "execution_count": null,
      "metadata": {
        "id": "Wd9L3dLtp-W_"
      },
      "outputs": [],
      "source": [
        "import csv\n",
        "airport_name={}\n",
        "with open ('US-Airport-Codes.csv', mode='r') as f:\n",
        "    data = csv.reader(f)\n",
        "    airport_name={rows[1].strip():rows[0].strip() for rows in data}\n",
        "print(type(airport_name))"
      ]
    },
    {
      "cell_type": "code",
      "execution_count": null,
      "metadata": {
        "id": "8Er-N0vyp-W_"
      },
      "outputs": [],
      "source": [
        "print(airport_name)"
      ]
    },
    {
      "cell_type": "code",
      "execution_count": null,
      "metadata": {
        "id": "_31_dZYnp-W_"
      },
      "outputs": [],
      "source": [
        "import pickle\n",
        "with open('airport_code.pkl', 'wb') as f:\n",
        "    pickle.dump(airport_name, f)"
      ]
    },
    {
      "cell_type": "code",
      "execution_count": null,
      "metadata": {
        "id": "pn8NPgjwp-W_"
      },
      "outputs": [],
      "source": [
        "import csv\n",
        "\n",
        "airport_name = {}\n",
        "with open('US-Airport-Codes.csv', mode='r') as f:\n",
        "    data = csv.reader(f)\n",
        "    # Skip the header row\n",
        "    next(data)\n",
        "    airport_name = {rows[1].strip(): rows[0].strip() for rows in data}\n",
        "\n",
        "print(airport_name['ATL'])  # Access without trailing space"
      ]
    },
    {
      "cell_type": "code",
      "execution_count": null,
      "metadata": {
        "id": "dCvqrkuep-W_"
      },
      "outputs": [],
      "source": [
        "option1='Atlanta Hartsfield International Airport'\n",
        "option2='Indianapolis International Airport'\n",
        "# p = nx.shortest_path(G,source=[i for i in airport_name if airport_name[i]==option1][0],target=[i for i in airport_name if airport_name[i]==option2][0], weight=\"l\")\n",
        "p=nx.shortest_path(G,source='ATL',target='IND',weight=\"l\")\n",
        "print(p)\n",
        "source=[i for i in airport_name if airport_name[i]==\"Atlanta Hartsfield International Airport \"]\n",
        "target=[i for i in airport_name if airport_name[i]==\"Indianapolis International Airport \"]\n",
        "print(source)\n",
        "print(target)"
      ]
    },
    {
      "cell_type": "code",
      "execution_count": null,
      "metadata": {
        "id": "7gH1RBc3p-XA"
      },
      "outputs": [],
      "source": [
        "#Remove Spaces from Airport Codes\n",
        "# for i in airport_name:\n",
        "\n",
        "#     airport_name[i]=airport_name[i].strip()\n",
        "# print(airport_name)\n",
        "#Remove Spaces from Airport Codes\n",
        "# for i in airport_name:\n",
        "#     #Remove Spaces from Airport Codes keys\n",
        "#     airport_name[i.strip()]=airport_name[i]\n",
        "# print(airport_name)\n",
        "print(airport_name['ATL']) # Remove trailing space from key\n",
        "for i in airport_name:\n",
        "    #Remove Spaces from Airport Codes keys\n",
        "    airport_name[i.strip()]=airport_name[i]\n",
        "print(airport_name)\n"
      ]
    },
    {
      "cell_type": "code",
      "execution_count": null,
      "metadata": {
        "id": "Ap9_yM9ip-XA"
      },
      "outputs": [],
      "source": [
        "import csv\n",
        "airport_name={}\n",
        "with open ('US-Airport-Codes.csv', mode='r') as f:\n",
        "    data = csv.reader(f)\n",
        "    state_name={rows[1].strip():rows[2].strip() for rows in data}\n",
        "print(state_name)"
      ]
    },
    {
      "cell_type": "code",
      "execution_count": null,
      "metadata": {
        "id": "5IA3oyX-p-XA"
      },
      "outputs": [],
      "source": [
        "import pickle\n",
        "with open('state_code.pkl', 'wb') as f:\n",
        "    pickle.dump(state_name, f)"
      ]
    },
    {
      "cell_type": "code",
      "execution_count": null,
      "metadata": {
        "id": "TRJb4jMFp-XA"
      },
      "outputs": [],
      "source": [
        "state_name.values()"
      ]
    },
    {
      "cell_type": "code",
      "execution_count": null,
      "metadata": {
        "id": "tY80VHu6p-XA"
      },
      "outputs": [],
      "source": [
        "#Degree Of Particular Node\n",
        "G.degree('ATL')"
      ]
    },
    {
      "cell_type": "code",
      "execution_count": null,
      "metadata": {
        "id": "x_WNjNz7p-XA"
      },
      "outputs": [],
      "source": [
        "temp={}\n",
        "for z in state_name:\n",
        "    if state_name[z]=='Alabama':\n",
        "        temp[z]=G.degree(z)\n",
        "temp"
      ]
    },
    {
      "cell_type": "code",
      "execution_count": null,
      "metadata": {
        "id": "bc4nGBFGp-XA"
      },
      "outputs": [],
      "source": [
        "#Store Unique States\n",
        "uniqueValues = set(state_name.values())\n",
        "type(uniqueValues)\n",
        "type(list(uniqueValues))"
      ]
    },
    {
      "cell_type": "code",
      "execution_count": null,
      "metadata": {
        "id": "sBiwNiAVp-XA"
      },
      "outputs": [],
      "source": [
        "with open('graph.pkl', 'rb') as c:\n",
        "    nod = pickle.load(c)"
      ]
    },
    {
      "cell_type": "code",
      "execution_count": null,
      "metadata": {
        "id": "8sqm6d8sp-XA"
      },
      "outputs": [],
      "source": [
        "!pip install streamlit\n",
        "import streamlit as st\n",
        "\n",
        "temp={}\n",
        "for z in state_name:\n",
        "    if state_name[z]=='Alabama':\n",
        "        temp[z]=nod.degree(z)\n",
        "temp\n",
        "st.write(temp) # Use st.write to display the dictionary in streamlit\n",
        "# Put Dictionary in Dataframe\n",
        "df = pd.DataFrame.from_dict(temp, orient='index', columns=['Degree'])\n",
        "# Print table\n",
        "st.write(df) # Use st.write to display the DataFrame in streamlit"
      ]
    },
    {
      "cell_type": "code",
      "execution_count": null,
      "metadata": {
        "id": "feZgym2lp-XA"
      },
      "outputs": [],
      "source": [
        "import csv\n",
        "airport_name={}\n",
        "with open ('US-STATE.csv', mode='r') as f:\n",
        "    data = csv.reader(f)\n",
        "    state_name2={rows[1].strip():rows[0].strip() for rows in data}\n",
        "print(state_name2)"
      ]
    },
    {
      "cell_type": "code",
      "execution_count": null,
      "metadata": {
        "id": "iiVZw1k0p-XA"
      },
      "outputs": [],
      "source": [
        "import pickle\n",
        "with open('state_name2.pkl', 'wb') as f:\n",
        "    pickle.dump(state_name2, f)"
      ]
    },
    {
      "cell_type": "code",
      "execution_count": null,
      "metadata": {
        "id": "NlX06L6tp-XA"
      },
      "outputs": [],
      "source": [
        "list(state_name2.values())"
      ]
    },
    {
      "cell_type": "code",
      "execution_count": null,
      "metadata": {
        "id": "CZ2Z8jKUp-XA"
      },
      "outputs": [],
      "source": [
        "state_name2"
      ]
    },
    {
      "cell_type": "code",
      "execution_count": null,
      "metadata": {
        "id": "qeDPE6J2p-XA"
      },
      "outputs": [],
      "source": [
        "import pickle\n",
        "with open('nearairport.pkl', 'wb') as m:\n",
        "    pickle.dump(shortestPathByDistanceTimeDF, m)"
      ]
    },
    {
      "cell_type": "code",
      "execution_count": null,
      "metadata": {
        "id": "ai_EkNmup-XA"
      },
      "outputs": [],
      "source": [
        "print(type(shortestPathByDistanceTimeDF))"
      ]
    },
    {
      "cell_type": "code",
      "execution_count": null,
      "metadata": {
        "id": "68qHpCzNp-XB"
      },
      "outputs": [],
      "source": [
        "shortestPathByDistanceTimeDF"
      ]
    },
    {
      "cell_type": "code",
      "execution_count": null,
      "metadata": {
        "id": "996crXIqp-XB"
      },
      "outputs": [],
      "source": [
        "import pandas as pd\n",
        "\n",
        "# Convert all values in the series to numeric, forcing errors to NaN\n",
        "series = pd.to_numeric(shortestPathByDistanceTimeDF['ATL'], errors='coerce')\n",
        "\n",
        "# Drop NaN values\n",
        "n = series.dropna().sort_values().head(100)\n",
        "\n",
        "# Convert series to dictionary\n",
        "n_dict = n.to_dict()\n",
        "\n",
        "# Convert all float values in the dictionary to int\n",
        "blank = {}\n",
        "for key, value in n_dict.items():\n",
        "    if pd.notna(value):  # Check if value is not NaN\n",
        "        blank[key] = int(value)\n",
        "    else:\n",
        "        blank[key] = None\n",
        "\n",
        "# Convert dictionary to DataFrame\n",
        "df = pd.DataFrame.from_dict(blank, orient='index', columns=['Distance'])\n",
        "\n",
        "print(df)\n"
      ]
    }
  ],
  "metadata": {
    "colab": {
      "provenance": [],
      "include_colab_link": true
    },
    "kernelspec": {
      "display_name": "Python 3",
      "language": "python",
      "name": "python3"
    },
    "language_info": {
      "codemirror_mode": {
        "name": "ipython",
        "version": 3
      },
      "file_extension": ".py",
      "mimetype": "text/x-python",
      "name": "python",
      "nbconvert_exporter": "python",
      "pygments_lexer": "ipython3",
      "version": "3.11.2"
    },
    "vscode": {
      "interpreter": {
        "hash": "aee8b7b246df8f9039afb4144a1f6fd8d2ca17a180786b69acc140d282b71a49"
      }
    }
  },
  "nbformat": 4,
  "nbformat_minor": 0
}